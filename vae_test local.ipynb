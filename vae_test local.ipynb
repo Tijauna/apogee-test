{
  "cells": [
    {
      "cell_type": "markdown",
      "metadata": {
        "id": "LPi3zOPJtIza"
      },
      "source": [
        "**Apogee Data Simple VAE Testing**"
      ]
    },
    {
      "cell_type": "code",
      "execution_count": 1,
      "metadata": {},
      "outputs": [
        {
          "name": "stdout",
          "output_type": "stream",
          "text": [
            "Fri Nov 26 14:44:48 2021       \n",
            "+-----------------------------------------------------------------------------+\n",
            "| NVIDIA-SMI 496.49       Driver Version: 496.49       CUDA Version: 11.5     |\n",
            "|-------------------------------+----------------------+----------------------+\n",
            "| GPU  Name            TCC/WDDM | Bus-Id        Disp.A | Volatile Uncorr. ECC |\n",
            "| Fan  Temp  Perf  Pwr:Usage/Cap|         Memory-Usage | GPU-Util  Compute M. |\n",
            "|                               |                      |               MIG M. |\n",
            "|===============================+======================+======================|\n",
            "|   0  NVIDIA GeForce ... WDDM  | 00000000:0A:00.0  On |                  N/A |\n",
            "| 53%   45C    P8    33W / 340W |   1326MiB / 10240MiB |      8%      Default |\n",
            "|                               |                      |                  N/A |\n",
            "+-------------------------------+----------------------+----------------------+\n",
            "                                                                               \n",
            "+-----------------------------------------------------------------------------+\n",
            "| Processes:                                                                  |\n",
            "|  GPU   GI   CI        PID   Type   Process name                  GPU Memory |\n",
            "|        ID   ID                                                   Usage      |\n",
            "|=============================================================================|\n",
            "|    0   N/A  N/A      1332    C+G   Insufficient Permissions        N/A      |\n",
            "|    0   N/A  N/A      1768    C+G   ...y\\ShellExperienceHost.exe    N/A      |\n",
            "|    0   N/A  N/A      5076    C+G   ...zilla Firefox\\firefox.exe    N/A      |\n",
            "|    0   N/A  N/A      5152    C+G   ...batNotificationClient.exe    N/A      |\n",
            "|    0   N/A  N/A      7408    C+G   Insufficient Permissions        N/A      |\n",
            "|    0   N/A  N/A      8292    C+G   C:\\Windows\\explorer.exe         N/A      |\n",
            "|    0   N/A  N/A     10284    C+G   ...5n1h2txyewy\\SearchApp.exe    N/A      |\n",
            "|    0   N/A  N/A     10568    C+G   ...icrosoft VS Code\\Code.exe    N/A      |\n",
            "|    0   N/A  N/A     11164    C+G   ...ekyb3d8bbwe\\YourPhone.exe    N/A      |\n",
            "|    0   N/A  N/A     11568    C+G   ...054.34\\msedgewebview2.exe    N/A      |\n",
            "|    0   N/A  N/A     11684    C+G   ...ekyb3d8bbwe\\HxOutlook.exe    N/A      |\n",
            "|    0   N/A  N/A     11940    C+G   ...cw5n1h2txyewy\\LockApp.exe    N/A      |\n",
            "|    0   N/A  N/A     12976    C+G   ...wekyb3d8bbwe\\Video.UI.exe    N/A      |\n",
            "|    0   N/A  N/A     13760    C+G   Insufficient Permissions        N/A      |\n",
            "|    0   N/A  N/A     15264    C+G   ...nputApp\\TextInputHost.exe    N/A      |\n",
            "|    0   N/A  N/A     15948    C+G   ...ram Files\\LGHUB\\lghub.exe    N/A      |\n",
            "|    0   N/A  N/A     16108    C+G   ...\\app-1.0.9003\\Discord.exe    N/A      |\n",
            "|    0   N/A  N/A     16624    C+G   ...8wekyb3d8bbwe\\Cortana.exe    N/A      |\n",
            "|    0   N/A  N/A     16788    C+G   ...zpdnekdrzrea0\\Spotify.exe    N/A      |\n",
            "|    0   N/A  N/A     17428    C+G   ...bbwe\\Microsoft.Photos.exe    N/A      |\n",
            "|    0   N/A  N/A     17880    C+G   ...8wekyb3d8bbwe\\GameBar.exe    N/A      |\n",
            "|    0   N/A  N/A     19984    C+G   ...lPanel\\SystemSettings.exe    N/A      |\n",
            "|    0   N/A  N/A     21168    C+G   ...kyb3d8bbwe\\Calculator.exe    N/A      |\n",
            "|    0   N/A  N/A     21964    C+G   ...zilla Firefox\\firefox.exe    N/A      |\n",
            "+-----------------------------------------------------------------------------+\n"
          ]
        }
      ],
      "source": [
        "# Hardware check\n",
        "!nvidia-smi"
      ]
    },
    {
      "cell_type": "code",
      "execution_count": 2,
      "metadata": {
        "id": "Kt-ZMAZGmU1u"
      },
      "outputs": [],
      "source": [
        "# Basic imports\n",
        "import torch\n",
        "import torch.nn as nn\n",
        "import numpy as np\n",
        "import pandas as pd\n",
        "\n",
        "from torch.optim import Adam\n",
        "\n",
        "from torchvision.datasets import MNIST\n",
        "import torchvision.transforms as transforms\n",
        "from torch.utils.data import DataLoader\n",
        "from torch.utils.data.sampler import SubsetRandomSampler\n",
        "\n",
        "from tqdm import tqdm\n",
        "from torchvision.utils import save_image, make_grid\n",
        "\n",
        "from astropy.io import fits\n",
        "\n",
        "from matplotlib import pyplot as plt"
      ]
    },
    {
      "cell_type": "code",
      "execution_count": null,
      "metadata": {},
      "outputs": [
        {
          "name": "stdout",
          "output_type": "stream",
          "text": [
            "True\n",
            "0\n",
            "<torch.cuda.device object at 0x000002C13393B760>\n",
            "1\n",
            "NVIDIA GeForce RTX 3080\n"
          ]
        }
      ],
      "source": [
        "# GPU verification\n",
        "print(torch.cuda.is_available())\n",
        "print(torch.cuda.current_device())\n",
        "print(torch.cuda.device(0))\n",
        "print(torch.cuda.device_count())\n",
        "print(torch.cuda.get_device_name(0))"
      ]
    },
    {
      "cell_type": "markdown",
      "metadata": {
        "id": "6KNbKYArtDJN"
      },
      "source": [
        "**Hyperparameters**"
      ]
    },
    {
      "cell_type": "code",
      "execution_count": null,
      "metadata": {
        "id": "FSJ0N0cTo2yA"
      },
      "outputs": [],
      "source": [
        "# Hyperparameters\n",
        "dataset_path = '~/datasets'\n",
        "cuda = True\n",
        "DEVICE = torch.device(\"cuda\" if cuda else \"cpu\")\n",
        "\n",
        "# Data parameters\n",
        "input_rows = 10000   # Number of spectra to input\n",
        "batch_size = 100    # Tested 100\n",
        "validation_split = .2   # Fraction of dataset to reserve for test\n",
        "random_seed = 42\n",
        "np.random.seed(random_seed)\n",
        "shuffle_toggle = True\n",
        "\n",
        "# Model Dimensions\n",
        "x_dim  = 7514\n",
        "# Originally 400, 200\n",
        "hidden_dim = 400\n",
        "latent_dim = 14\n",
        "\n",
        "# Learning rate\n",
        "# Default 0.001\n",
        "lr = 0.001\n",
        "\n",
        "# VAE Beta\n",
        "beta = 1\n",
        "\n",
        "# Num epochs\n",
        "epochs = 50"
      ]
    },
    {
      "cell_type": "markdown",
      "metadata": {
        "id": "s0Y2UrIArFBs"
      },
      "source": [
        "**Process and Load Data**"
      ]
    },
    {
      "cell_type": "code",
      "execution_count": null,
      "metadata": {
        "id": "dTbI8VPmxIXi"
      },
      "outputs": [],
      "source": [
        "# from google.colab import drive\n",
        "# drive.mount('/content/drive')"
      ]
    },
    {
      "cell_type": "code",
      "execution_count": null,
      "metadata": {
        "id": "WljSeTcCxmus"
      },
      "outputs": [],
      "source": [
        "def starInfoDebug():\n",
        "  for i in range(10):\n",
        "      # Title information\n",
        "      print(\"\\n**************** Looking at index \", i, \" ****************\")\n",
        "      print(\"APSTAR ID: \", star['apstar_id'][i],\\\n",
        "          \"\\nTARGET_ID: \", star['target_id'][i],\\\n",
        "              \"\\nASPCAP_ID: \", star['aspcap_id'][i])\n",
        "      \n",
        "      print(\"\\nBasic Stats:\")\n",
        "      print(\"SNR: \", star['snr'][i])\n",
        "      print(\"Effective Temp (K) \\t ASPCAP: \", star['teff_spec'][i], 'AstroNN:', star_astroNN['TEFF'][i])\n",
        "      print(\"Surface G (log(cm/s^2) \\t ASPCAP: \", star['logg_spec'][i], 'AstroNN:', star_astroNN['LOGG'][i])\n",
        "\n",
        "      #j = ind[i]\n",
        "      j = i\n",
        "\n",
        "      plt.subplot(5, 2, j+1)\n",
        "      plt.title(star['aspcap_id'][i])\n",
        "      plt.xlabel('Wavelength')\n",
        "      plt.ylabel('Relative Flux')\n",
        "      # 7514 data points for each spectra\n",
        "      plt.plot(star_spectra[j])\n",
        "\n",
        "      spectra_df = pd.DataFrame(star_spectra[j])\n",
        "      # Actual input data\n",
        "      print(\"\\nInput dataframe:\")\n",
        "      print(spectra_df)\n",
        "\n",
        "      #print(len(star_spectra[j]))\n",
        "      #plt.legend([star['aspcap_id'][i]])\n",
        "      #plt.show()\n",
        "\n",
        "      # Abundances, other info\n",
        "      print(\"\\nAbundances, additional info (ASPCAP):\")\n",
        "      print(star['ra'][j], star['dec'][j], star['glon'][j], star['glat'][j],\\\n",
        "          star['vhelio_avg'][j], star['vscatter'][j],\\\n",
        "          star['teff'][j], star['teff_err'][j],\\\n",
        "          star['logg'][j], star['logg_err'][j],\\\n",
        "          star['m_h'][j], star['m_h_err'][j],\\\n",
        "          star['alpha_m'][j], star['alpha_m_err'][j],\\\n",
        "          star['c_fe'][j], star['c_fe_err'][j],\\\n",
        "          star['cI_fe'][j], star['cI_fe_err'][j],\\\n",
        "          star['n_fe'][j], star['n_fe_err'][j],\\\n",
        "          star['o_fe'][j], star['o_fe_err'][j],\\\n",
        "          star['na_fe'][j], star['na_fe_err'][j],\\\n",
        "          star['mg_fe'][j], star['mg_fe_err'][j],\\\n",
        "          star['al_fe'][j], star['al_fe_err'][j],\\\n",
        "          star['si_fe'][j], star['si_fe_err'][j],\\\n",
        "          star['p_fe'][j], star['p_fe_err'][j],\\\n",
        "          star['s_fe'][j], star['s_fe_err'][j],\\\n",
        "          star['k_fe'][j], star['k_fe_err'][j],\\\n",
        "          star['ca_fe'][j], star['ca_fe_err'][j],\\\n",
        "          star['ti_fe'][j], star['ti_fe_err'][j],\\\n",
        "          star['v_fe'][j], star['v_fe_err'][j],\\\n",
        "          star['cr_fe'][j], star['cr_fe_err'][j],\\\n",
        "          star['mn_fe'][j], star['mn_fe_err'][j],\\\n",
        "          star['fe_h'][j], star['fe_h_err'][j],\\\n",
        "          star['co_fe'][j], star['co_fe_err'][j],\\\n",
        "          star['ni_fe'][j], star['ni_fe_err'][j],\\\n",
        "          star['cu_fe'][j], star['cu_fe_err'][j],\\\n",
        "          star['ge_fe'][j], star['ge_fe_err'][j],\\\n",
        "          star['rb_fe'][j], star['rb_fe_err'][j],\\\n",
        "          star['aspcapflags'][j], star['starflags'][j])\n",
        "\n",
        "      plt.subplots_adjust(hspace=1)\n",
        "      #plt.tight_layout()\n",
        "      plt.show()"
      ]
    },
    {
      "cell_type": "code",
      "execution_count": null,
      "metadata": {
        "id": "tI_JwkURxMB0"
      },
      "outputs": [
        {
          "name": "stdout",
          "output_type": "stream",
          "text": [
            "\n",
            " ********************** Opening FITS files from drive **********************\n",
            "Number of spectra:  473307\n",
            "Data points per spectra:  7514\n"
          ]
        }
      ],
      "source": [
        "print(\"\\n ********************** Opening FITS files from drive **********************\")\n",
        "\n",
        "star_hdus = fits.open('allStar-r12-l33.fits')\n",
        "astroNN_hdus = fits.open('apogee_astroNN-DR16-v1.fits')\n",
        "star_spec = fits.open('contspec_dr16_final.fits')\n",
        "\n",
        "star = star_hdus[1].data\n",
        "star_astroNN = astroNN_hdus[1].data\n",
        "star_spectra = star_spec[0].data\n",
        "\n",
        "star_hdus.close()\n",
        "astroNN_hdus.close()\n",
        "star_spec.close()\n",
        "\n",
        "print(\"Number of spectra: \", len(star))\n",
        "print(\"Data points per spectra: \", len(star_spectra[1]))\n",
        "\n",
        "# starInfoDebug()"
      ]
    },
    {
      "cell_type": "markdown",
      "metadata": {
        "id": "gDGazuZYICa1"
      },
      "source": [
        "**Dataset Class for Spectral data**"
      ]
    },
    {
      "cell_type": "code",
      "execution_count": null,
      "metadata": {
        "id": "rI2XwUlO5wqQ"
      },
      "outputs": [],
      "source": [
        "# https://visualstudiomagazine.com/articles/2020/09/10/pytorch-dataloader.aspx\n",
        "\n",
        "class spectraDataset(torch.utils.data.Dataset):\n",
        "\n",
        "  # Num rows = max number of spectra to load\n",
        "  def __init__(self, src, num_rows=None):\n",
        "    if num_rows == None:\n",
        "      spectra = src.astype(np.float32)\n",
        "    else:\n",
        "      spectra = src.astype(np.float32)[0:num_rows]\n",
        "\n",
        "    # y_tmp = np.loadtxt(src_file, max_rows=num_rows,\n",
        "    #   usecols=7, delimiter=\"\\t\", skiprows=0,\n",
        "    #   dtype=np.long)\n",
        "\n",
        "    self.x_data = torch.tensor(spectra, dtype=torch.float32).to(DEVICE)\n",
        "\n",
        "    # self.y_data = T.tensor(y_tmp,\n",
        "    #   dtype=T.long).to(DEVICE)\n",
        "\n",
        "  def __len__(self):\n",
        "    return len(self.x_data)  # required\n",
        "\n",
        "  def __getitem__(self, idx):\n",
        "    # if T.is_tensor(idx):\n",
        "    #   idx = idx.tolist()\n",
        "    # preds = self.x_data[idx, 0:7]\n",
        "    # pol = self.y_data[idx]\n",
        "    # sample = \\\n",
        "    #   { 'predictors' : preds, 'political' : pol }\n",
        "\n",
        "    sample = self.x_data[idx]\n",
        "    return sample"
      ]
    },
    {
      "cell_type": "markdown",
      "metadata": {
        "id": "aOkDqqAoH_ou"
      },
      "source": [
        "**Train/Test Split**"
      ]
    },
    {
      "cell_type": "code",
      "execution_count": null,
      "metadata": {
        "id": "kGYcFC8BKLcD"
      },
      "outputs": [
        {
          "name": "stdout",
          "output_type": "stream",
          "text": [
            "Found zero max\n",
            "Found zero max\n",
            "Found zero max\n",
            "Found zero max\n",
            "Found zero max\n",
            "Found zero max\n",
            "Found zero max\n",
            "Found zero max\n",
            "Found zero max\n",
            "Found zero max\n",
            "Found zero max\n",
            "Found zero max\n",
            "Found zero max\n",
            "Found zero max\n",
            "Found zero max\n",
            "Found zero max\n",
            "Found zero max\n",
            "Found zero max\n",
            "          0         1         2         3         4         5         6     \\\n",
            "0     0.662741  0.646440  0.665096  0.691883  0.679830  0.661775  0.682237   \n",
            "1     0.761633  0.757415  0.768836  0.798458  0.812469  0.813112  0.827087   \n",
            "2     0.312199  0.259266  0.394152  0.423569  0.286041  0.276606  0.304298   \n",
            "3     0.435576  0.462964  0.458318  0.482320  0.526069  0.559252  0.559565   \n",
            "4     0.692963  0.734273  0.824559  0.906867  0.957039  0.979466  0.987284   \n",
            "...        ...       ...       ...       ...       ...       ...       ...   \n",
            "9995  0.768450  0.795485  0.846372  0.865159  0.867771  0.872264  0.862063   \n",
            "9996  0.459094  0.466302  0.454119  0.452240  0.470215  0.483875  0.484575   \n",
            "9997  0.813118  0.821827  0.836274  0.845401  0.848319  0.853516  0.857633   \n",
            "9998  0.568326  0.561369  0.633372  0.634595  0.605403  0.639698  0.696357   \n",
            "9999  0.389216  0.502166  0.618793  0.708746  0.765546  0.773755  0.770659   \n",
            "\n",
            "          7         8         9     ...      7504      7505      7506  \\\n",
            "0     0.687499  0.670552  0.681979  ...  0.608954  0.776159  0.662764   \n",
            "1     0.835675  0.824311  0.814013  ...  0.700593  0.675530  0.722935   \n",
            "2     0.251039  0.296911  0.384986  ...  0.350198  0.998491  0.693179   \n",
            "3     0.535134  0.528663  0.538792  ...  0.465812  0.444790  0.437388   \n",
            "4     0.985847  0.977960  0.968902  ...  0.755387  0.788434  0.804791   \n",
            "...        ...       ...       ...  ...       ...       ...       ...   \n",
            "9995  0.861011  0.885530  0.896002  ...  0.723913  0.734411  0.749239   \n",
            "9996  0.484238  0.479507  0.468029  ...  0.372350  0.381944  0.391945   \n",
            "9997  0.852197  0.844518  0.845309  ...  0.745708  0.750602  0.770810   \n",
            "9998  0.704383  0.698906  0.705277  ...  0.378780  0.391596  0.565123   \n",
            "9999  0.774438  0.768285  0.750749  ...  0.628012  0.650423  0.657134   \n",
            "\n",
            "          7507      7508      7509      7510      7511      7512      7513  \n",
            "0     0.550884  0.682122  0.602226  0.653695  0.569902  0.533217  0.537648  \n",
            "1     0.722773  0.734567  0.735369  0.719083  0.718385  0.724607  0.704831  \n",
            "2     0.287112  0.210736  0.260764  0.323179  0.323179  0.323179  0.323179  \n",
            "3     0.474456  0.523350  0.484228  0.474941  0.530505  0.465354  0.462867  \n",
            "4     0.822067  0.843920  0.859858  0.876823  0.892782  0.880964  0.851429  \n",
            "...        ...       ...       ...       ...       ...       ...       ...  \n",
            "9995  0.758539  0.776907  0.735662  0.773969  0.816261  0.765120  0.736048  \n",
            "9996  0.398499  0.390417  0.389515  0.397243  0.398672  0.397720  0.407379  \n",
            "9997  0.764900  0.770454  0.781024  0.789286  0.796257  0.772405  0.774085  \n",
            "9998  0.502073  0.387645  0.526500  0.557604  0.562851  0.599655  0.513694  \n",
            "9999  0.648679  0.655016  0.703810  0.686695  0.684408  0.688732  0.667060  \n",
            "\n",
            "[10000 rows x 7514 columns]\n"
          ]
        }
      ],
      "source": [
        "# # Reduce the dataset down to a manageable size, based on input_rows hyperparameter\n",
        "np.random.seed(random_seed)\n",
        "random_reduced_idx = list(np.random.choice(len(star_spectra), input_rows, replace=False))\n",
        "\n",
        "# # Grab only spectra with indices randomly selected from above\n",
        "#reduced_star_spectra = np.take(star_spectra, random_reduced_idx, 0)\n",
        "reduced_star_spectra = star_spectra[random_reduced_idx]\n",
        "#print(pd.DataFrame(reduced_star_spectra))\n",
        "\n",
        "\n",
        "# Normalize\n",
        "for starRow in reduced_star_spectra:\n",
        "    starRow -= starRow.min()\n",
        "    #print(starRow.max())\n",
        "    if starRow.max() == 0:\n",
        "        print(\"Found zero max\")\n",
        "    else:\n",
        "        starRow /= starRow.max()\n",
        "\n",
        "print(pd.DataFrame(reduced_star_spectra))"
      ]
    },
    {
      "cell_type": "code",
      "execution_count": null,
      "metadata": {
        "id": "bfJHX-yFpdiK"
      },
      "outputs": [],
      "source": [
        "#Normalize (between 0 and 1)\n",
        "\n",
        "# sum_of_rows = reduced_star_spectra.sum(axis=1)\n",
        "# reduced_star_spectra = reduced_star_spectra / sum_of_rows[:, np.newaxis]\n",
        "\n",
        "# reduced_maximum = np.amax(reduced_star_spectra)\n",
        "# print(reduced_maximum)\n",
        "# reduced_star_spectra = reduced_star_spectra/reduced_maximum\n",
        "\n",
        "# Normalization array\n",
        "# reduced_maximum = np.zeros(len(reduced_star_spectra))\n",
        "\n",
        "# for i in range(0, len(reduced_star_spectra)):\n",
        "#   reduced_maximum[i] = np.amax(reduced_star_spectra[i])\n",
        "#   reduced_star_spectra[i] = reduced_star_spectra[i]/reduced_maximum[i]\n",
        "\n",
        "# print(pd.DataFrame(reduced_star_spectra))"
      ]
    },
    {
      "cell_type": "code",
      "execution_count": null,
      "metadata": {
        "id": "cC-aEHs9pV4e"
      },
      "outputs": [],
      "source": [
        "# Final normalized, reduced inputs\n",
        "train_dataset = spectraDataset(reduced_star_spectra)"
      ]
    },
    {
      "cell_type": "code",
      "execution_count": null,
      "metadata": {
        "id": "xnK9JzFyH_O_"
      },
      "outputs": [
        {
          "name": "stdout",
          "output_type": "stream",
          "text": [
            "Splitting dataset at 2000\n"
          ]
        }
      ],
      "source": [
        "# Creating data indices for training and validation splits:\n",
        "dataset_size = len(reduced_star_spectra)\n",
        "indices = list(range(dataset_size))\n",
        "split = int(np.floor(validation_split * dataset_size))\n",
        "\n",
        "print(\"Splitting dataset at\", split)\n",
        "\n",
        "# If shuffling is enabled, use random seed to shuffle data indices\n",
        "if shuffle_toggle:\n",
        "    np.random.seed(random_seed)\n",
        "    np.random.shuffle(indices)\n",
        "\n",
        "# Get training/validation indices\n",
        "train_indices, test_indices = indices[split:], indices[:split]\n",
        "\n",
        "# Generate random samplers\n",
        "train_sampler = SubsetRandomSampler(train_indices)\n",
        "test_sampler = SubsetRandomSampler(test_indices)"
      ]
    },
    {
      "cell_type": "code",
      "execution_count": null,
      "metadata": {
        "id": "eKNkFIRY9Z7w"
      },
      "outputs": [
        {
          "name": "stdout",
          "output_type": "stream",
          "text": [
            "Batches in train: 80\n",
            "Batches in test: 20\n"
          ]
        }
      ],
      "source": [
        "# Generate data loaders\n",
        "kwargs = {'num_workers': 0}\n",
        "#kwargs = {'num_workers': 0} \n",
        "\n",
        "# train_loader = DataLoader(train_dataset, batch_size=batch_size, sampler=train_sampler, **kwargs)\n",
        "# test_loader = DataLoader(train_dataset, batch_size=batch_size, sampler=test_sampler, **kwargs)\n",
        "\n",
        "# Try without random sampling (simple split on index)\n",
        "train_loader = DataLoader(train_dataset[split:], batch_size=batch_size, **kwargs)\n",
        "test_loader = DataLoader(train_dataset[:split], batch_size=batch_size, **kwargs)\n",
        "\n",
        "print('Batches in train:', len(train_loader))\n",
        "print('Batches in test:', len(test_loader))"
      ]
    },
    {
      "cell_type": "code",
      "execution_count": null,
      "metadata": {},
      "outputs": [
        {
          "name": "stdout",
          "output_type": "stream",
          "text": [
            "torch.Size([100, 7514])\n",
            "torch.Size([100, 7514])\n",
            "torch.Size([100, 7514])\n",
            "torch.Size([100, 7514])\n",
            "torch.Size([100, 7514])\n",
            "torch.Size([100, 7514])\n",
            "torch.Size([100, 7514])\n",
            "torch.Size([100, 7514])\n",
            "torch.Size([100, 7514])\n",
            "torch.Size([100, 7514])\n",
            "torch.Size([100, 7514])\n",
            "torch.Size([100, 7514])\n",
            "torch.Size([100, 7514])\n",
            "torch.Size([100, 7514])\n",
            "torch.Size([100, 7514])\n",
            "torch.Size([100, 7514])\n",
            "torch.Size([100, 7514])\n",
            "torch.Size([100, 7514])\n",
            "torch.Size([100, 7514])\n",
            "torch.Size([100, 7514])\n",
            "torch.Size([100, 7514])\n",
            "torch.Size([100, 7514])\n",
            "torch.Size([100, 7514])\n",
            "torch.Size([100, 7514])\n",
            "torch.Size([100, 7514])\n",
            "torch.Size([100, 7514])\n",
            "torch.Size([100, 7514])\n",
            "torch.Size([100, 7514])\n",
            "torch.Size([100, 7514])\n",
            "torch.Size([100, 7514])\n",
            "torch.Size([100, 7514])\n",
            "torch.Size([100, 7514])\n",
            "torch.Size([100, 7514])\n",
            "torch.Size([100, 7514])\n",
            "torch.Size([100, 7514])\n",
            "torch.Size([100, 7514])\n",
            "torch.Size([100, 7514])\n",
            "torch.Size([100, 7514])\n",
            "torch.Size([100, 7514])\n",
            "torch.Size([100, 7514])\n",
            "torch.Size([100, 7514])\n",
            "torch.Size([100, 7514])\n",
            "torch.Size([100, 7514])\n",
            "torch.Size([100, 7514])\n",
            "torch.Size([100, 7514])\n",
            "torch.Size([100, 7514])\n",
            "torch.Size([100, 7514])\n",
            "torch.Size([100, 7514])\n",
            "torch.Size([100, 7514])\n",
            "torch.Size([100, 7514])\n",
            "torch.Size([100, 7514])\n",
            "torch.Size([100, 7514])\n",
            "torch.Size([100, 7514])\n",
            "torch.Size([100, 7514])\n",
            "torch.Size([100, 7514])\n",
            "torch.Size([100, 7514])\n",
            "torch.Size([100, 7514])\n",
            "torch.Size([100, 7514])\n",
            "torch.Size([100, 7514])\n",
            "torch.Size([100, 7514])\n",
            "torch.Size([100, 7514])\n",
            "torch.Size([100, 7514])\n",
            "torch.Size([100, 7514])\n",
            "torch.Size([100, 7514])\n",
            "torch.Size([100, 7514])\n",
            "torch.Size([100, 7514])\n",
            "torch.Size([100, 7514])\n",
            "torch.Size([100, 7514])\n",
            "torch.Size([100, 7514])\n",
            "torch.Size([100, 7514])\n",
            "torch.Size([100, 7514])\n",
            "torch.Size([100, 7514])\n",
            "torch.Size([100, 7514])\n",
            "torch.Size([100, 7514])\n",
            "torch.Size([100, 7514])\n",
            "torch.Size([100, 7514])\n",
            "torch.Size([100, 7514])\n",
            "torch.Size([100, 7514])\n",
            "torch.Size([100, 7514])\n",
            "torch.Size([100, 7514])\n"
          ]
        }
      ],
      "source": [
        "for idx, train in enumerate(train_loader):\n",
        "    print(train.shape)"
      ]
    },
    {
      "cell_type": "code",
      "execution_count": null,
      "metadata": {
        "id": "mHy11ApKq3FM"
      },
      "outputs": [],
      "source": [
        "# MNIST Testing data\n",
        "\n",
        "# mnist_transform = transforms.Compose([\n",
        "#         transforms.ToTensor(),\n",
        "# ])\n",
        "\n",
        "# kwargs = {'num_workers': 1, 'pin_memory': True} \n",
        "\n",
        "# train_dataset = MNIST(dataset_path, transform=mnist_transform, train=True, download=True)\n",
        "# test_dataset  = MNIST(dataset_path, transform=mnist_transform, train=False, download=True)\n",
        "\n",
        "# train_loader = DataLoader(dataset=train_dataset, batch_size=batch_size, shuffle=True, **kwargs)\n",
        "# test_loader  = DataLoader(dataset=test_dataset,  batch_size=batch_size, shuffle=False, **kwargs)"
      ]
    },
    {
      "cell_type": "markdown",
      "metadata": {
        "id": "r3aX2FK8rTHO"
      },
      "source": [
        "Implement Simple VAE"
      ]
    },
    {
      "cell_type": "code",
      "execution_count": null,
      "metadata": {
        "id": "HONX58QMrSUl"
      },
      "outputs": [],
      "source": [
        "\"\"\"\n",
        "    A simple implementation of Gaussian MLP Encoder and Decoder\n",
        "\"\"\"\n",
        "\n",
        "class Encoder(nn.Module):\n",
        "  def __init__(self, input_dim, hidden_dim, latent_dim):\n",
        "    super(Encoder, self).__init__()\n",
        "\n",
        "    # FC Linear version\n",
        "    self.FC_input = nn.Linear(input_dim, 3757)\n",
        "    # Try batch normalization\n",
        "    # nn.BatchNorm1d(hidden_dim)\n",
        "    self.FC_input2 = nn.Linear(3757, 1878)\n",
        "    self.FC_input3 = nn.Linear(1878, 939)\n",
        "    self.FC_input4 = nn.Linear(939, 469)\n",
        "    self.FC_input5 = nn.Linear(469, 234)\n",
        "    self.FC_input6 = nn.Linear(234, 117)\n",
        "    self.FC_input7 = nn.Linear(117, 58)\n",
        "    self.FC_input8 = nn.Linear(58, 29)\n",
        "\n",
        "    # Increase number of layers!!\n",
        "\n",
        "    # Mean and log variance\n",
        "    self.FC_mean  = nn.Linear(29, latent_dim)\n",
        "    self.FC_var   = nn.Linear(29, latent_dim)\n",
        "    \n",
        "    self.LeakyReLU = nn.LeakyReLU()\n",
        "    \n",
        "    self.training = True\n",
        "      \n",
        "  def forward(self, x):\n",
        "    h_ = self.LeakyReLU(self.FC_input(x))\n",
        "    h_ = self.LeakyReLU(self.FC_input2(h_))\n",
        "    h_ = self.LeakyReLU(self.FC_input3(h_))\n",
        "    h_ = self.LeakyReLU(self.FC_input4(h_))\n",
        "    h_ = self.LeakyReLU(self.FC_input5(h_))\n",
        "    h_ = self.LeakyReLU(self.FC_input6(h_))\n",
        "    h_ = self.LeakyReLU(self.FC_input7(h_))\n",
        "    h_ = self.LeakyReLU(self.FC_input8(h_))\n",
        "\n",
        "    mean = self.FC_mean(h_)\n",
        "    log_var = self.FC_var(h_)                     # encoder produces mean and log of variance \n",
        "                                                  #             (i.e., parameters of simple tractable normal distribution \"q\"\n",
        "    \n",
        "    return mean, log_var"
      ]
    },
    {
      "cell_type": "code",
      "execution_count": null,
      "metadata": {
        "id": "Xo-_3cU1rYqv"
      },
      "outputs": [],
      "source": [
        "class Decoder(nn.Module):\n",
        "  def __init__(self, latent_dim, hidden_dim, output_dim):\n",
        "    super(Decoder, self).__init__()\n",
        "\n",
        "    # FC Linear version\n",
        "    self.FC_hidden = nn.Linear(latent_dim, 29)\n",
        "    self.FC_hidden2 = nn.Linear(29, 58)\n",
        "    self.FC_hidden3 = nn.Linear(58, 117)\n",
        "    self.FC_hidden4 = nn.Linear(117, 234)\n",
        "    self.FC_hidden5 = nn.Linear(234, 469)\n",
        "    self.FC_hidden6 = nn.Linear(469, 939)\n",
        "    self.FC_hidden7 = nn.Linear(939, 1878)\n",
        "    self.FC_hidden8 = nn.Linear(1878, 3757)\n",
        "    self.FC_output = nn.Linear(3757, output_dim)\n",
        "    \n",
        "    self.LeakyReLU = nn.LeakyReLU()\n",
        "\n",
        "  def forward(self, x):\n",
        "    h = self.LeakyReLU(self.FC_hidden(x))\n",
        "    h = self.LeakyReLU(self.FC_hidden2(h))\n",
        "    h = self.LeakyReLU(self.FC_hidden3(h))\n",
        "    h = self.LeakyReLU(self.FC_hidden4(h))\n",
        "    h = self.LeakyReLU(self.FC_hidden5(h))\n",
        "    h = self.LeakyReLU(self.FC_hidden6(h))\n",
        "    h = self.LeakyReLU(self.FC_hidden7(h))\n",
        "    h = self.LeakyReLU(self.FC_hidden8(h))\n",
        "  \n",
        "    # originally torch.sigmoid, but output range incorrect\n",
        "    # Replace with smooth function - look into this!!\n",
        "    # Softplus, gelu \n",
        "\n",
        "    activation = torch.nn.Softplus()\n",
        "    x_hat = activation(self.FC_output(h))\n",
        "    #x_hat = torch.nn.GELU(self.FC_output(h))\n",
        "    #print(x_hat)\n",
        "    return x_hat"
      ]
    },
    {
      "cell_type": "code",
      "execution_count": null,
      "metadata": {
        "id": "t0hRtlO5ralJ"
      },
      "outputs": [],
      "source": [
        "class Model(nn.Module):\n",
        "  def __init__(self, Encoder, Decoder):\n",
        "    super(Model, self).__init__()\n",
        "    self.Encoder = Encoder\n",
        "    self.Decoder = Decoder\n",
        "      \n",
        "  def reparameterization(self, mean, var):\n",
        "    epsilon = torch.randn_like(var).to(DEVICE)        # sampling epsilon        \n",
        "    z = mean + var*epsilon                          # reparameterization trick\n",
        "    return z\n",
        "      \n",
        "              \n",
        "  def forward(self, x):\n",
        "    # Generate mean, log var\n",
        "    mean, log_var = self.Encoder(x)\n",
        "\n",
        "    z = self.reparameterization(mean, torch.exp(0.5 * log_var)) # takes exponential function (log var -> var)\n",
        "    x_hat = self.Decoder(z)\n",
        "    \n",
        "    return x_hat, mean, log_var"
      ]
    },
    {
      "cell_type": "code",
      "execution_count": null,
      "metadata": {
        "id": "cDqjx8Pyrekx"
      },
      "outputs": [],
      "source": [
        "encoder = Encoder(input_dim=x_dim, hidden_dim=hidden_dim, latent_dim=latent_dim)\n",
        "decoder = Decoder(latent_dim=latent_dim, hidden_dim = hidden_dim, output_dim = x_dim)\n",
        "\n",
        "model = Model(Encoder=encoder, Decoder=decoder).to(DEVICE)"
      ]
    },
    {
      "cell_type": "code",
      "execution_count": null,
      "metadata": {
        "id": "gg0P-A_LrhK5"
      },
      "outputs": [],
      "source": [
        "def loss_function(x, x_hat, mean, log_var):\n",
        "  # Reduction = mean or sum\n",
        "  reproduction_loss = nn.functional.mse_loss(x_hat, x, reduction='sum')\n",
        "  \n",
        "  # reproduction_loss = nn.functional.binary_cross_entropy(x_hat, x, reduction='sum')\n",
        "\n",
        "  KLD = - 0.5 * torch.sum(1+ log_var - mean.pow(2) - log_var.exp())\n",
        "\n",
        "  return reproduction_loss + beta * KLD\n",
        "\n",
        "\n",
        "#optimizer = Adam(model.parameters(), lr=lr)\n",
        "optimizer = Adam(model.parameters(), lr=lr, amsgrad=True)\n",
        "\n",
        "# Dynamic LR decay\n",
        "scheduler = torch.optim.lr_scheduler.ExponentialLR(optimizer, gamma=0.9)"
      ]
    },
    {
      "cell_type": "markdown",
      "metadata": {},
      "source": [
        "**Run Training**"
      ]
    },
    {
      "cell_type": "code",
      "execution_count": null,
      "metadata": {},
      "outputs": [],
      "source": [
        "# Loss arrays\n",
        "train_losses = []\n",
        "val_losses = []"
      ]
    },
    {
      "cell_type": "code",
      "execution_count": null,
      "metadata": {
        "id": "dYM5WBzTriny"
      },
      "outputs": [
        {
          "name": "stdout",
          "output_type": "stream",
          "text": [
            "Start training VAE...\n",
            "\tEpoch 1 complete! \tAverage Loss:  341.77509839794305\n",
            "\tEpoch 2 complete! \tAverage Loss:  105.45273041930379\n",
            "\tEpoch 3 complete! \tAverage Loss:  53.22639055083069\n",
            "\tEpoch 4 complete! \tAverage Loss:  49.82164699119858\n",
            "\tEpoch 5 complete! \tAverage Loss:  49.5661762324466\n",
            "\tEpoch 6 complete! \tAverage Loss:  49.28467754895174\n",
            "\tEpoch 7 complete! \tAverage Loss:  48.372675843057756\n",
            "\tEpoch 8 complete! \tAverage Loss:  46.69738577927215\n",
            "\tEpoch 9 complete! \tAverage Loss:  43.75166040348101\n",
            "\tEpoch 10 complete! \tAverage Loss:  48.15931489196005\n",
            "\tEpoch 11 complete! \tAverage Loss:  51.48673114245451\n",
            "\tEpoch 12 complete! \tAverage Loss:  41.40569042350673\n",
            "\tEpoch 13 complete! \tAverage Loss:  42.4677079830894\n",
            "\tEpoch 14 complete! \tAverage Loss:  40.92805113973497\n",
            "\tEpoch 15 complete! \tAverage Loss:  39.10103376557555\n",
            "\tEpoch 16 complete! \tAverage Loss:  46.244743899574765\n",
            "\tEpoch 17 complete! \tAverage Loss:  37.57718403876582\n",
            "\tEpoch 18 complete! \tAverage Loss:  36.81097501730617\n",
            "\tEpoch 19 complete! \tAverage Loss:  36.9282720097409\n",
            "\tEpoch 20 complete! \tAverage Loss:  40.19344028134889\n",
            "\tEpoch 21 complete! \tAverage Loss:  37.15164053228837\n",
            "\tEpoch 22 complete! \tAverage Loss:  34.900416707871834\n",
            "\tEpoch 23 complete! \tAverage Loss:  36.98638155780261\n",
            "\tEpoch 24 complete! \tAverage Loss:  36.5323218391515\n",
            "\tEpoch 25 complete! \tAverage Loss:  35.00147284785403\n",
            "Finished!!!\n"
          ]
        }
      ],
      "source": [
        "print(\"Start training VAE...\")\n",
        "model.train()\n",
        "\n",
        "for epoch in range(epochs):\n",
        "  overall_loss = 0\n",
        "  \n",
        "  for batch_idx, (x) in enumerate(train_loader):\n",
        "    x = x.view(batch_size, x_dim)\n",
        "    x = x.to(DEVICE)\n",
        "\n",
        "    optimizer.zero_grad()\n",
        "\n",
        "    x_hat, mean, log_var = model(x)\n",
        "    loss = loss_function(x, x_hat, mean, log_var)\n",
        "    \n",
        "    overall_loss += loss.item()\n",
        "    \n",
        "    loss.backward()\n",
        "    optimizer.step()\n",
        "  \n",
        "  # Dynamic LR decay\n",
        "  scheduler.step()\n",
        "\n",
        "  avgLoss = overall_loss / (batch_idx*batch_size)\n",
        "  train_losses.append(avgLoss)\n",
        "  print(\"\\tEpoch\", epoch + 1, \"complete!\", \"\\tAverage Loss: \", avgLoss)\n",
        "    \n",
        "print(\"Finished!!!\")"
      ]
    },
    {
      "cell_type": "code",
      "execution_count": null,
      "metadata": {
        "id": "5GjN2krOr0nI"
      },
      "outputs": [
        {
          "name": "stderr",
          "output_type": "stream",
          "text": [
            "  0%|          | 0/20 [00:00<?, ?it/s]"
          ]
        },
        {
          "name": "stdout",
          "output_type": "stream",
          "text": [
            "Test Loss 36.9137744140625\n"
          ]
        },
        {
          "name": "stderr",
          "output_type": "stream",
          "text": [
            "\n"
          ]
        }
      ],
      "source": [
        "model.eval()\n",
        "\n",
        "with torch.no_grad():\n",
        "  for batch_idx, (x) in enumerate(tqdm(test_loader)):\n",
        "    x = x.view(batch_size, x_dim)\n",
        "    x = x.to(DEVICE)\n",
        "    \n",
        "    x_hat, mean, log_var = model(x)\n",
        "    \n",
        "    loss = loss_function(x, x_hat, mean, log_var)\n",
        "    print(\"Test Loss\", loss.item()/batch_size)\n",
        "\n",
        "    break"
      ]
    },
    {
      "cell_type": "code",
      "execution_count": null,
      "metadata": {},
      "outputs": [
        {
          "data": {
            "image/png": "[encoded data removed]",
            "text/plain": [
              "<Figure size 720x360 with 1 Axes>"
            ]
          },
          "metadata": {
            "needs_background": "light"
          },
          "output_type": "display_data"
        }
      ],
      "source": [
        "# Plot losses\n",
        "\n",
        "plt.figure(figsize=(10,5))\n",
        "plt.title(\"Training Loss\")\n",
        "# plt.plot(val_losses,label=\"val\")\n",
        "plt.plot(train_losses,label=\"train\")\n",
        "plt.xlabel(\"iterations\")\n",
        "plt.ylabel(\"Loss\")\n",
        "plt.legend()\n",
        "plt.show()"
      ]
    },
    {
      "cell_type": "code",
      "execution_count": null,
      "metadata": {
        "id": "QsJCDz_Ywk9C"
      },
      "outputs": [
        {
          "name": "stdout",
          "output_type": "stream",
          "text": [
            "tensor([0.6627, 0.6464, 0.6651,  ..., 0.5699, 0.5332, 0.5376], device='cuda:0')\n"
          ]
        },
        {
          "data": {
            "image/png": "[encoded data removed]",
            "text/plain": [
              "<Figure size 432x288 with 1 Axes>"
            ]
          },
          "metadata": {
            "needs_background": "light"
          },
          "output_type": "display_data"
        }
      ],
      "source": [
        "#x[1] = x[1] * reduced_maximum\n",
        "print(x[0])\n",
        "\n",
        "plt.title('Original Spectra')\n",
        "plt.xlabel('Wavelength')\n",
        "plt.ylabel('Relative Flux')\n",
        "# 7514 data points for each spectra\n",
        "plt.plot(x[0].cpu().numpy())\n",
        "plt.show()"
      ]
    },
    {
      "cell_type": "code",
      "execution_count": null,
      "metadata": {
        "id": "dcETlCUsOVOI"
      },
      "outputs": [
        {
          "name": "stdout",
          "output_type": "stream",
          "text": [
            "tensor([0.5366, 0.5580, 0.5907,  ..., 0.6011, 0.5952, 0.5867], device='cuda:0')\n"
          ]
        },
        {
          "data": {
            "image/png": "[encoded data removed]",
            "text/plain": [
              "<Figure size 432x288 with 1 Axes>"
            ]
          },
          "metadata": {
            "needs_background": "light"
          },
          "output_type": "display_data"
        }
      ],
      "source": [
        "#x_hat[1] = x_hat[1] * reduced_maximum\n",
        "\n",
        "print(x_hat[0])\n",
        "\n",
        "plt.title('Reconstructed Spectra')\n",
        "plt.xlabel('Wavelength')\n",
        "plt.ylabel('Relative Flux')\n",
        "# 7514 data points for each spectra\n",
        "plt.plot(x_hat[0].cpu().numpy())\n",
        "plt.show()"
      ]
    },
    {
      "cell_type": "code",
      "execution_count": null,
      "metadata": {},
      "outputs": [
        {
          "name": "stdout",
          "output_type": "stream",
          "text": [
            "Parameter containing:\n",
            "tensor([[-0.1646, -0.0190, -0.0642, -0.1540, -0.0655, -0.1558,  0.1489, -0.0987,\n",
            "         -0.0705,  0.0653, -0.2418, -0.1262, -0.0337, -0.0583, -0.1005,  0.1280,\n",
            "         -0.0102,  0.1322,  0.0811,  0.1371,  0.1372, -0.0360,  0.0078,  0.0487,\n",
            "         -0.1791, -0.1560, -0.1809,  0.1694, -0.0213],\n",
            "        [-0.1944, -0.1080, -0.1736, -0.1381,  0.0842, -0.1339, -0.1274,  0.0863,\n",
            "          0.1583,  0.1443,  0.1731, -0.0445, -0.1333,  0.1449, -0.1672,  0.0070,\n",
            "          0.0655,  0.0924, -0.1414,  0.0455,  0.0983,  0.0182,  0.0050,  0.1473,\n",
            "          0.0781, -0.0852, -0.0419, -0.0245,  0.0533],\n",
            "        [ 0.1774,  0.0390,  0.1525, -0.2131,  0.0530, -0.1027, -0.0720, -0.3165,\n",
            "         -0.0015,  0.0910, -0.3955,  0.0045,  0.0629, -0.0965, -0.1782, -0.0774,\n",
            "         -0.0295, -0.0459,  0.0361, -0.1334,  0.0875,  0.1253, -0.0592, -0.1578,\n",
            "         -0.0405,  0.0798,  0.0093,  0.0920, -0.1236],\n",
            "        [-0.0723,  0.0438,  0.2042,  0.2046,  0.0781,  0.0703,  0.1106, -0.0439,\n",
            "         -0.1245, -0.0896, -0.1547, -0.0816,  0.1431,  0.0693, -0.1162,  0.0407,\n",
            "          0.0775, -0.0302, -0.0579, -0.0816, -0.0842,  0.0007, -0.1629, -0.1551,\n",
            "          0.1092,  0.0502, -0.1282, -0.0133, -0.1401],\n",
            "        [ 0.1397,  0.0193,  0.0319,  0.0838, -0.0503,  0.1472, -0.1903, -0.0655,\n",
            "          0.0587, -0.0482,  0.0643, -0.0414,  0.0161,  0.1045, -0.1688, -0.1563,\n",
            "         -0.1790,  0.1939,  0.1893,  0.0627,  0.0389, -0.0391, -0.0355, -0.1296,\n",
            "         -0.0661,  0.2010,  0.0229, -0.0569, -0.0345],\n",
            "        [ 0.0180, -0.0525,  0.0165, -0.0651, -0.1706,  0.0980, -0.0607,  0.0699,\n",
            "         -0.1113,  0.0328, -0.1132,  0.1509,  0.0927,  0.1975,  0.0600,  0.1113,\n",
            "         -0.1446, -0.0387,  0.1059,  0.0948, -0.1471,  0.1226, -0.1032,  0.0730,\n",
            "          0.1914,  0.0672,  0.0489,  0.1308,  0.1158],\n",
            "        [ 0.0726, -0.0729, -0.1291,  0.0078,  0.0622,  0.0574,  0.1066, -0.0158,\n",
            "         -0.0539,  0.0210, -0.0097,  0.0213, -0.1809,  0.1914, -0.1031, -0.0657,\n",
            "          0.0877, -0.1160, -0.1355,  0.0961,  0.0011, -0.1430, -0.0896, -0.0632,\n",
            "          0.0843, -0.0759, -0.0091,  0.1482,  0.1081],\n",
            "        [ 0.0131,  0.0485,  0.1378,  0.0488, -0.2140, -0.0763, -0.0235,  0.0710,\n",
            "         -0.1913,  0.0189, -0.0477,  0.0383, -0.1452,  0.0469,  0.1030,  0.0537,\n",
            "          0.1828,  0.0174,  0.0093, -0.1562, -0.0349,  0.0110,  0.0393,  0.0476,\n",
            "          0.1667, -0.0202,  0.1503,  0.1501,  0.1316],\n",
            "        [ 0.1450, -0.0222, -0.0285, -0.0073, -0.0578,  0.0987, -0.1707,  0.0706,\n",
            "         -0.0597, -0.0352, -0.0834,  0.0022,  0.0412,  0.1513, -0.1556, -0.0083,\n",
            "         -0.1559, -0.0487, -0.1673,  0.1433, -0.0912, -0.0531, -0.0492,  0.1913,\n",
            "         -0.0380, -0.0586,  0.1938,  0.1127,  0.1114],\n",
            "        [-0.1292,  0.1680, -0.1444, -0.0749,  0.0018, -0.1410, -0.1541, -0.0741,\n",
            "         -0.0276,  0.1247,  0.0972, -0.1057, -0.0348, -0.1598,  0.1819, -0.0246,\n",
            "          0.1887,  0.0383,  0.0511, -0.0735, -0.1698,  0.0417, -0.1244,  0.0076,\n",
            "         -0.1446, -0.1020,  0.0933, -0.0331,  0.1603],\n",
            "        [-0.0196,  0.0736,  0.0014, -0.1635, -0.0345,  0.0941, -0.0297,  0.1289,\n",
            "          0.0322, -0.0285, -0.0088, -0.0702, -0.1455,  0.0707,  0.1345,  0.0613,\n",
            "          0.1475,  0.0761,  0.0893,  0.0723, -0.0412,  0.0047, -0.0363, -0.0622,\n",
            "          0.0818, -0.1096,  0.0109, -0.0075, -0.0108],\n",
            "        [ 0.0822, -0.1363, -0.0735,  0.0329, -0.0290, -0.0972, -0.1077,  0.1167,\n",
            "         -0.0522,  0.1521, -0.0872, -0.1546, -0.1441, -0.0668,  0.1308, -0.0353,\n",
            "         -0.0227,  0.0432,  0.1208, -0.0790,  0.1060, -0.0423,  0.1503,  0.0155,\n",
            "         -0.0965,  0.1400,  0.0779, -0.0477, -0.1443],\n",
            "        [-0.1312,  0.1042, -0.0566, -0.1162, -0.0305, -0.0018,  0.0780, -0.0453,\n",
            "         -0.0457, -0.1252, -0.1660,  0.1957,  0.1838, -0.1152,  0.1440,  0.0908,\n",
            "          0.0025,  0.0352,  0.1292, -0.1740, -0.0803, -0.1528, -0.0563, -0.0569,\n",
            "         -0.1630,  0.0557,  0.0313,  0.1096,  0.0231],\n",
            "        [ 0.1335,  0.0261,  0.0066, -0.1847,  0.0933,  0.0891,  0.0021, -0.1309,\n",
            "          0.0119,  0.1676, -0.4515, -0.0229, -0.1458,  0.1348,  0.1522, -0.1686,\n",
            "          0.0427,  0.0993,  0.0901, -0.2067, -0.0294,  0.0166, -0.0618,  0.1459,\n",
            "          0.0434, -0.1483,  0.0588,  0.1794,  0.1388]], device='cuda:0',\n",
            "       requires_grad=True)\n"
          ]
        }
      ],
      "source": [
        "print(encoder.FC_mean.weight)"
      ]
    },
    {
      "cell_type": "code",
      "execution_count": null,
      "metadata": {},
      "outputs": [
        {
          "name": "stdout",
          "output_type": "stream",
          "text": [
            "Parameter containing:\n",
            "tensor([[-6.6153e-02, -1.0315e-03,  1.5056e-01,  2.7658e-02,  1.7739e-02,\n",
            "         -1.5242e-01,  1.6511e-01,  8.4403e-02, -2.0601e-01, -9.9024e-02,\n",
            "         -1.7054e-01, -1.8495e-02, -8.3086e-02,  6.6166e-03, -1.4093e-01,\n",
            "          4.0764e-02,  1.1772e-01,  1.0691e-01,  1.3662e-01, -3.4344e-03,\n",
            "          1.4121e-01,  6.6061e-02, -1.4718e-01, -6.8616e-02,  7.0175e-02,\n",
            "         -4.0938e-02, -4.7258e-02, -1.4105e-01,  6.1776e-02],\n",
            "        [ 7.6311e-02, -2.1013e-01,  3.2857e-02,  7.5420e-02,  9.3461e-02,\n",
            "         -8.6752e-02,  8.9161e-02,  8.6753e-02,  2.1656e-01,  1.1320e-01,\n",
            "          1.9465e-02, -1.6111e-01, -2.4231e-01,  1.6476e-01, -5.8131e-02,\n",
            "          5.8606e-02, -3.8046e-02, -1.8356e-01,  1.5613e-01,  1.9857e-01,\n",
            "          1.8813e-02, -1.9862e-01,  4.7325e-02,  2.3761e-01,  4.8251e-03,\n",
            "         -1.5398e-01, -1.1517e-01,  8.3701e-02,  3.1896e-02],\n",
            "        [-2.1005e-01, -2.0629e-01,  6.5925e-02, -2.6419e-01, -6.3413e-02,\n",
            "         -3.4883e-02,  2.3059e-01, -8.1180e-01, -2.8487e-02, -1.3937e-01,\n",
            "         -3.7416e-01, -1.0587e+00,  3.9351e-02,  6.2733e-02,  1.0979e-01,\n",
            "         -2.8831e-01, -9.0141e-02, -1.6261e-01,  1.5894e-01,  2.0060e-01,\n",
            "          7.9237e-02,  1.3030e-01,  2.6733e-02,  3.7354e-01, -1.1854e-01,\n",
            "         -8.2074e-01, -4.1030e-02, -3.5429e-02,  8.5723e-02],\n",
            "        [ 1.4157e-01,  1.1109e-01, -5.7375e-02,  4.1895e-02,  3.4979e-03,\n",
            "          5.7745e-02, -7.7779e-02, -4.1553e-02,  5.2476e-02, -5.1896e-02,\n",
            "          1.6154e-02, -1.1938e-02, -1.2524e-02,  9.2232e-02, -3.7057e-03,\n",
            "         -1.1683e-02,  1.3562e-01, -2.3746e-02, -4.4426e-02,  6.4205e-02,\n",
            "          9.5716e-02,  1.0396e-01, -4.7052e-02,  5.8834e-02, -1.2212e-01,\n",
            "         -1.0610e-01,  2.5175e-02, -4.9239e-02, -2.2488e-02],\n",
            "        [ 6.3460e-03,  2.1601e-02, -1.0423e-01,  1.5751e-01, -1.1985e-01,\n",
            "          8.1182e-02,  1.9945e-01,  2.6451e-02,  1.1920e-01,  1.2902e-01,\n",
            "          6.5677e-02, -6.7033e-02, -1.7058e-01, -1.5789e-01,  8.6069e-02,\n",
            "         -3.8443e-02,  8.5790e-02,  1.3643e-02,  6.0076e-03, -4.0096e-02,\n",
            "          1.0189e-01, -1.4434e-01, -6.9564e-02, -1.5418e-01,  1.5992e-01,\n",
            "         -2.1376e-01, -1.4765e-01,  1.3649e-01,  1.0717e-01],\n",
            "        [ 1.5722e-01, -9.0410e-02, -9.9247e-02, -3.4300e-02,  4.9742e-02,\n",
            "         -1.0503e-01, -9.8366e-02,  3.5160e-02, -1.3737e-02,  6.4751e-02,\n",
            "         -8.8213e-02, -1.6182e-01, -4.0350e-02,  6.1802e-02, -6.9954e-02,\n",
            "         -5.8000e-02, -1.5140e-01, -1.0809e-01, -1.1442e-01,  2.1224e-01,\n",
            "          1.2986e-01,  3.5741e-02,  1.2200e-01, -3.2063e-02, -8.3906e-02,\n",
            "          1.0458e-01, -1.6669e-01,  1.6271e-02, -1.0381e-01],\n",
            "        [-6.1353e-02, -5.9180e-02,  7.0525e-02, -3.6818e-03,  9.6400e-02,\n",
            "         -6.3040e-02,  7.5231e-02,  1.2201e-01, -7.8769e-02, -1.2450e-01,\n",
            "          6.7900e-02, -4.3411e-02,  1.1897e-01, -8.8388e-02,  8.2143e-03,\n",
            "          2.8093e-02,  1.3428e-01, -1.2216e-01, -9.7627e-03, -1.6388e-01,\n",
            "          8.4162e-02, -1.1579e-01, -1.1611e-01,  1.0517e-01,  7.6487e-02,\n",
            "          8.3321e-02,  1.7010e-02,  1.8636e-01,  1.5359e-01],\n",
            "        [-1.4341e-01,  6.5628e-02,  1.4547e-01, -9.1478e-03,  6.3488e-02,\n",
            "          6.7449e-02,  1.4270e-01, -1.7829e-01,  5.2786e-02, -9.8268e-02,\n",
            "          4.7345e-02, -1.7488e-02,  6.4911e-02,  8.6425e-02, -2.0488e-02,\n",
            "          8.5184e-02,  3.2601e-02,  7.9530e-02,  1.2993e-01,  3.6996e-02,\n",
            "          4.2137e-02, -1.7390e-01, -8.3648e-02,  7.0364e-02,  3.1571e-02,\n",
            "          5.9944e-02, -1.5747e-01, -3.4525e-02,  1.7560e-02],\n",
            "        [-5.9569e-02, -1.0099e-01, -1.7028e-01,  6.8683e-02,  1.1418e-01,\n",
            "         -1.8342e-01,  1.4399e-01, -5.7491e-02, -1.1477e-01, -4.7371e-02,\n",
            "         -1.0696e-01, -5.9451e-02, -1.1166e-01,  3.5149e-02, -8.9961e-02,\n",
            "          1.7810e-01,  1.2843e-01, -3.9693e-02, -4.3148e-02,  1.5678e-01,\n",
            "          1.3053e-01,  1.3326e-01, -1.8618e-01,  1.4667e-01,  2.0686e-02,\n",
            "         -8.0220e-02,  1.1718e-01,  3.9058e-02,  1.2250e-01],\n",
            "        [ 2.5322e-02,  9.3616e-02,  8.8617e-02,  2.0707e-02,  3.0024e-02,\n",
            "          9.7053e-03, -1.0730e-01, -1.1359e-01,  7.7530e-02, -8.6293e-02,\n",
            "          1.5520e-03,  2.2482e-02, -2.2054e-02, -1.7608e-01,  2.3957e-02,\n",
            "          2.5951e-02,  7.3761e-02,  4.7281e-02, -1.2057e-01,  1.6044e-01,\n",
            "          9.4651e-02,  2.5373e-02, -2.1245e-01,  7.0405e-02,  6.6566e-02,\n",
            "         -1.4938e-01, -4.2260e-04, -1.1074e-01, -8.0490e-02],\n",
            "        [-1.4973e-01,  1.1575e-01,  1.5796e-01,  4.6139e-02,  1.7426e-02,\n",
            "          1.5275e-02, -6.0838e-02, -7.9867e-02,  1.5064e-01,  1.4143e-01,\n",
            "          1.8108e-02, -1.1399e-01,  6.9719e-02,  1.5062e-01,  8.0650e-02,\n",
            "         -4.5421e-02,  6.3818e-02, -3.0715e-02, -7.1041e-02,  5.2078e-02,\n",
            "          1.0465e-01, -5.4266e-02, -1.7518e-01, -1.4779e-01, -1.5189e-01,\n",
            "         -5.5844e-02,  1.6755e-02, -1.0134e-01, -2.1745e-02],\n",
            "        [ 9.4100e-02, -4.1232e-02, -1.2563e-01, -2.0465e-01, -6.6912e-02,\n",
            "         -1.2902e-01,  1.6921e-02, -1.2548e-01,  1.2660e-01, -1.0426e-01,\n",
            "          2.1098e-02,  2.9764e-02,  1.4321e-01, -3.0015e-02,  8.3648e-02,\n",
            "          1.4602e-02, -1.6585e-01,  6.3249e-02,  8.0172e-02, -1.5091e-01,\n",
            "         -1.3569e-01, -1.1915e-01,  5.6361e-02, -3.2346e-02, -5.7443e-02,\n",
            "          7.7921e-02,  8.6416e-02,  1.0058e-01, -2.1670e-02],\n",
            "        [-1.6888e-01, -4.4030e-03, -1.5910e-01, -9.7829e-02, -1.8801e-02,\n",
            "         -6.3849e-02,  9.1842e-03,  1.1382e-01, -4.5198e-02, -4.7524e-03,\n",
            "         -1.4094e-01, -1.0143e-01, -3.1275e-02,  1.1902e-01,  9.4846e-02,\n",
            "         -2.2155e-02,  8.5728e-02,  1.3754e-01, -1.1611e-01, -1.2688e-01,\n",
            "         -9.2306e-02, -1.9255e-01,  3.5083e-02, -5.7529e-02,  9.5891e-02,\n",
            "          6.9899e-02, -1.6002e-01,  1.7039e-01,  1.1908e-01],\n",
            "        [-1.3254e-01, -1.6461e-01, -6.0679e-02, -6.4145e-01, -2.3435e-01,\n",
            "          8.5777e-02, -5.3788e-02, -1.0109e+00, -3.1923e-02, -6.4934e-02,\n",
            "         -5.1871e-01, -1.1239e+00, -9.0662e-02,  3.7129e-02,  1.2870e-01,\n",
            "         -4.3040e-01,  8.6218e-02, -1.0568e-01, -5.7746e-02,  2.0382e-01,\n",
            "         -2.1692e-01,  7.2539e-02,  6.6130e-03,  3.6175e-01, -6.7143e-02,\n",
            "         -8.2059e-01, -3.5983e-02, -1.4193e-02,  7.2946e-02]], device='cuda:0',\n",
            "       requires_grad=True)\n"
          ]
        }
      ],
      "source": [
        "print(encoder.FC_var.weight)"
      ]
    }
  ],
  "metadata": {
    "accelerator": "GPU",
    "colab": {
      "collapsed_sections": [],
      "name": "vae_test.ipynb",
      "provenance": []
    },
    "kernelspec": {
      "display_name": "Python 3",
      "name": "python3"
    },
    "language_info": {
      "codemirror_mode": {
        "name": "ipython",
        "version": 3
      },
      "file_extension": ".py",
      "mimetype": "text/x-python",
      "name": "python",
      "nbconvert_exporter": "python",
      "pygments_lexer": "ipython3",
      "version": "3.8.5"
    }
  },
  "nbformat": 4,
  "nbformat_minor": 0
}
