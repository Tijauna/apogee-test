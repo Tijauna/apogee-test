{
  "cells": [
    {
      "cell_type": "markdown",
      "metadata": {
        "id": "LPi3zOPJtIza"
      },
      "source": [
        "**Apogee Data Simple VAE Testing**"
      ]
    },
    {
      "cell_type": "code",
      "execution_count": 1,
      "metadata": {},
      "outputs": [
        {
          "name": "stdout",
          "output_type": "stream",
          "text": [
            "Fri Nov 26 13:44:04 2021       \n",
            "+-----------------------------------------------------------------------------+\n",
            "| NVIDIA-SMI 496.49       Driver Version: 496.49       CUDA Version: 11.5     |\n",
            "|-------------------------------+----------------------+----------------------+\n",
            "| GPU  Name            TCC/WDDM | Bus-Id        Disp.A | Volatile Uncorr. ECC |\n",
            "| Fan  Temp  Perf  Pwr:Usage/Cap|         Memory-Usage | GPU-Util  Compute M. |\n",
            "|                               |                      |               MIG M. |\n",
            "|===============================+======================+======================|\n",
            "|   0  NVIDIA GeForce ... WDDM  | 00000000:0A:00.0  On |                  N/A |\n",
            "| 53%   44C    P8    29W / 340W |   1225MiB / 10240MiB |      3%      Default |\n",
            "|                               |                      |                  N/A |\n",
            "+-------------------------------+----------------------+----------------------+\n",
            "                                                                               \n",
            "+-----------------------------------------------------------------------------+\n",
            "| Processes:                                                                  |\n",
            "|  GPU   GI   CI        PID   Type   Process name                  GPU Memory |\n",
            "|        ID   ID                                                   Usage      |\n",
            "|=============================================================================|\n",
            "|    0   N/A  N/A      1332    C+G   Insufficient Permissions        N/A      |\n",
            "|    0   N/A  N/A      1768    C+G   ...y\\ShellExperienceHost.exe    N/A      |\n",
            "|    0   N/A  N/A      5076    C+G   ...zilla Firefox\\firefox.exe    N/A      |\n",
            "|    0   N/A  N/A      5152    C+G   ...batNotificationClient.exe    N/A      |\n",
            "|    0   N/A  N/A      7408    C+G   Insufficient Permissions        N/A      |\n",
            "|    0   N/A  N/A      8292    C+G   C:\\Windows\\explorer.exe         N/A      |\n",
            "|    0   N/A  N/A     10284    C+G   ...5n1h2txyewy\\SearchApp.exe    N/A      |\n",
            "|    0   N/A  N/A     10568    C+G   ...icrosoft VS Code\\Code.exe    N/A      |\n",
            "|    0   N/A  N/A     11164    C+G   ...ekyb3d8bbwe\\YourPhone.exe    N/A      |\n",
            "|    0   N/A  N/A     11568    C+G   ...054.34\\msedgewebview2.exe    N/A      |\n",
            "|    0   N/A  N/A     11684    C+G   ...ekyb3d8bbwe\\HxOutlook.exe    N/A      |\n",
            "|    0   N/A  N/A     11940    C+G   ...cw5n1h2txyewy\\LockApp.exe    N/A      |\n",
            "|    0   N/A  N/A     12976    C+G   ...wekyb3d8bbwe\\Video.UI.exe    N/A      |\n",
            "|    0   N/A  N/A     13760    C+G   Insufficient Permissions        N/A      |\n",
            "|    0   N/A  N/A     15264    C+G   ...nputApp\\TextInputHost.exe    N/A      |\n",
            "|    0   N/A  N/A     15948    C+G   ...ram Files\\LGHUB\\lghub.exe    N/A      |\n",
            "|    0   N/A  N/A     16108    C+G   ...\\app-1.0.9003\\Discord.exe    N/A      |\n",
            "|    0   N/A  N/A     16624    C+G   ...8wekyb3d8bbwe\\Cortana.exe    N/A      |\n",
            "|    0   N/A  N/A     16788    C+G   ...zpdnekdrzrea0\\Spotify.exe    N/A      |\n",
            "|    0   N/A  N/A     17880    C+G   ...8wekyb3d8bbwe\\GameBar.exe    N/A      |\n",
            "|    0   N/A  N/A     19984    C+G   ...lPanel\\SystemSettings.exe    N/A      |\n",
            "|    0   N/A  N/A     21168    C+G   ...kyb3d8bbwe\\Calculator.exe    N/A      |\n",
            "|    0   N/A  N/A     21964    C+G   ...zilla Firefox\\firefox.exe    N/A      |\n",
            "+-----------------------------------------------------------------------------+\n"
          ]
        }
      ],
      "source": [
        "# Hardware check\n",
        "!nvidia-smi"
      ]
    },
    {
      "cell_type": "code",
      "execution_count": 2,
      "metadata": {
        "id": "Kt-ZMAZGmU1u"
      },
      "outputs": [],
      "source": [
        "# Basic imports\n",
        "import torch\n",
        "import torch.nn as nn\n",
        "import numpy as np\n",
        "import pandas as pd\n",
        "\n",
        "from torch.optim import Adam\n",
        "\n",
        "from torchvision.datasets import MNIST\n",
        "import torchvision.transforms as transforms\n",
        "from torch.utils.data import DataLoader\n",
        "from torch.utils.data.sampler import SubsetRandomSampler\n",
        "\n",
        "from tqdm import tqdm\n",
        "from torchvision.utils import save_image, make_grid\n",
        "\n",
        "from astropy.io import fits\n",
        "\n",
        "from matplotlib import pyplot as plt"
      ]
    },
    {
      "cell_type": "code",
      "execution_count": 3,
      "metadata": {},
      "outputs": [
        {
          "name": "stdout",
          "output_type": "stream",
          "text": [
            "True\n",
            "0\n",
            "<torch.cuda.device object at 0x000002B67C30B640>\n",
            "1\n",
            "NVIDIA GeForce RTX 3080\n"
          ]
        }
      ],
      "source": [
        "# GPU verification\n",
        "print(torch.cuda.is_available())\n",
        "print(torch.cuda.current_device())\n",
        "print(torch.cuda.device(0))\n",
        "print(torch.cuda.device_count())\n",
        "print(torch.cuda.get_device_name(0))"
      ]
    },
    {
      "cell_type": "markdown",
      "metadata": {
        "id": "6KNbKYArtDJN"
      },
      "source": [
        "**Hyperparameters**"
      ]
    },
    {
      "cell_type": "code",
      "execution_count": 4,
      "metadata": {
        "id": "FSJ0N0cTo2yA"
      },
      "outputs": [],
      "source": [
        "# Hyperparameters\n",
        "dataset_path = '~/datasets'\n",
        "cuda = True\n",
        "DEVICE = torch.device(\"cuda\" if cuda else \"cpu\")\n",
        "\n",
        "# Data parameters\n",
        "input_rows = 10000   # Number of spectra to input\n",
        "batch_size = 100\n",
        "validation_split = .2   # Fraction of dataset to reserve for test\n",
        "random_seed = 42\n",
        "np.random.seed(random_seed)\n",
        "shuffle_toggle = True\n",
        "\n",
        "# Model Dimensions\n",
        "x_dim  = 7514\n",
        "# Originally 400, 200\n",
        "hidden_dim = 400\n",
        "latent_dim = 100\n",
        "\n",
        "# Learning rate\n",
        "# Default 0.001\n",
        "lr = 0.001\n",
        "\n",
        "# VAE Beta\n",
        "beta = 1\n",
        "\n",
        "# Num epochs\n",
        "epochs = 50"
      ]
    },
    {
      "cell_type": "markdown",
      "metadata": {
        "id": "s0Y2UrIArFBs"
      },
      "source": [
        "**Process and Load Data**"
      ]
    },
    {
      "cell_type": "code",
      "execution_count": 5,
      "metadata": {
        "id": "dTbI8VPmxIXi"
      },
      "outputs": [],
      "source": [
        "# from google.colab import drive\n",
        "# drive.mount('/content/drive')"
      ]
    },
    {
      "cell_type": "code",
      "execution_count": 6,
      "metadata": {
        "id": "WljSeTcCxmus"
      },
      "outputs": [],
      "source": [
        "def starInfoDebug():\n",
        "  for i in range(10):\n",
        "      # Title information\n",
        "      print(\"\\n**************** Looking at index \", i, \" ****************\")\n",
        "      print(\"APSTAR ID: \", star['apstar_id'][i],\\\n",
        "          \"\\nTARGET_ID: \", star['target_id'][i],\\\n",
        "              \"\\nASPCAP_ID: \", star['aspcap_id'][i])\n",
        "      \n",
        "      print(\"\\nBasic Stats:\")\n",
        "      print(\"SNR: \", star['snr'][i])\n",
        "      print(\"Effective Temp (K) \\t ASPCAP: \", star['teff_spec'][i], 'AstroNN:', star_astroNN['TEFF'][i])\n",
        "      print(\"Surface G (log(cm/s^2) \\t ASPCAP: \", star['logg_spec'][i], 'AstroNN:', star_astroNN['LOGG'][i])\n",
        "\n",
        "      #j = ind[i]\n",
        "      j = i\n",
        "\n",
        "      plt.subplot(5, 2, j+1)\n",
        "      plt.title(star['aspcap_id'][i])\n",
        "      plt.xlabel('Wavelength')\n",
        "      plt.ylabel('Relative Flux')\n",
        "      # 7514 data points for each spectra\n",
        "      plt.plot(star_spectra[j])\n",
        "\n",
        "      spectra_df = pd.DataFrame(star_spectra[j])\n",
        "      # Actual input data\n",
        "      print(\"\\nInput dataframe:\")\n",
        "      print(spectra_df)\n",
        "\n",
        "      #print(len(star_spectra[j]))\n",
        "      #plt.legend([star['aspcap_id'][i]])\n",
        "      #plt.show()\n",
        "\n",
        "      # Abundances, other info\n",
        "      print(\"\\nAbundances, additional info (ASPCAP):\")\n",
        "      print(star['ra'][j], star['dec'][j], star['glon'][j], star['glat'][j],\\\n",
        "          star['vhelio_avg'][j], star['vscatter'][j],\\\n",
        "          star['teff'][j], star['teff_err'][j],\\\n",
        "          star['logg'][j], star['logg_err'][j],\\\n",
        "          star['m_h'][j], star['m_h_err'][j],\\\n",
        "          star['alpha_m'][j], star['alpha_m_err'][j],\\\n",
        "          star['c_fe'][j], star['c_fe_err'][j],\\\n",
        "          star['cI_fe'][j], star['cI_fe_err'][j],\\\n",
        "          star['n_fe'][j], star['n_fe_err'][j],\\\n",
        "          star['o_fe'][j], star['o_fe_err'][j],\\\n",
        "          star['na_fe'][j], star['na_fe_err'][j],\\\n",
        "          star['mg_fe'][j], star['mg_fe_err'][j],\\\n",
        "          star['al_fe'][j], star['al_fe_err'][j],\\\n",
        "          star['si_fe'][j], star['si_fe_err'][j],\\\n",
        "          star['p_fe'][j], star['p_fe_err'][j],\\\n",
        "          star['s_fe'][j], star['s_fe_err'][j],\\\n",
        "          star['k_fe'][j], star['k_fe_err'][j],\\\n",
        "          star['ca_fe'][j], star['ca_fe_err'][j],\\\n",
        "          star['ti_fe'][j], star['ti_fe_err'][j],\\\n",
        "          star['v_fe'][j], star['v_fe_err'][j],\\\n",
        "          star['cr_fe'][j], star['cr_fe_err'][j],\\\n",
        "          star['mn_fe'][j], star['mn_fe_err'][j],\\\n",
        "          star['fe_h'][j], star['fe_h_err'][j],\\\n",
        "          star['co_fe'][j], star['co_fe_err'][j],\\\n",
        "          star['ni_fe'][j], star['ni_fe_err'][j],\\\n",
        "          star['cu_fe'][j], star['cu_fe_err'][j],\\\n",
        "          star['ge_fe'][j], star['ge_fe_err'][j],\\\n",
        "          star['rb_fe'][j], star['rb_fe_err'][j],\\\n",
        "          star['aspcapflags'][j], star['starflags'][j])\n",
        "\n",
        "      plt.subplots_adjust(hspace=1)\n",
        "      #plt.tight_layout()\n",
        "      plt.show()"
      ]
    },
    {
      "cell_type": "code",
      "execution_count": 7,
      "metadata": {
        "id": "tI_JwkURxMB0"
      },
      "outputs": [
        {
          "name": "stdout",
          "output_type": "stream",
          "text": [
            "\n",
            " ********************** Opening FITS files from drive **********************\n",
            "Number of spectra:  473307\n",
            "Data points per spectra:  7514\n"
          ]
        }
      ],
      "source": [
        "print(\"\\n ********************** Opening FITS files from drive **********************\")\n",
        "\n",
        "star_hdus = fits.open('allStar-r12-l33.fits')\n",
        "astroNN_hdus = fits.open('apogee_astroNN-DR16-v1.fits')\n",
        "star_spec = fits.open('contspec_dr16_final.fits')\n",
        "\n",
        "star = star_hdus[1].data\n",
        "star_astroNN = astroNN_hdus[1].data\n",
        "star_spectra = star_spec[0].data\n",
        "\n",
        "star_hdus.close()\n",
        "astroNN_hdus.close()\n",
        "star_spec.close()\n",
        "\n",
        "print(\"Number of spectra: \", len(star))\n",
        "print(\"Data points per spectra: \", len(star_spectra[1]))\n",
        "\n",
        "# starInfoDebug()"
      ]
    },
    {
      "cell_type": "markdown",
      "metadata": {
        "id": "gDGazuZYICa1"
      },
      "source": [
        "**Dataset Class for Spectral data**"
      ]
    },
    {
      "cell_type": "code",
      "execution_count": 8,
      "metadata": {
        "id": "rI2XwUlO5wqQ"
      },
      "outputs": [],
      "source": [
        "# https://visualstudiomagazine.com/articles/2020/09/10/pytorch-dataloader.aspx\n",
        "\n",
        "class spectraDataset(torch.utils.data.Dataset):\n",
        "\n",
        "  # Num rows = max number of spectra to load\n",
        "  def __init__(self, src, num_rows=None):\n",
        "    if num_rows == None:\n",
        "      spectra = src.astype(np.float32)\n",
        "    else:\n",
        "      spectra = src.astype(np.float32)[0:num_rows]\n",
        "\n",
        "    # y_tmp = np.loadtxt(src_file, max_rows=num_rows,\n",
        "    #   usecols=7, delimiter=\"\\t\", skiprows=0,\n",
        "    #   dtype=np.long)\n",
        "\n",
        "    self.x_data = torch.tensor(spectra, dtype=torch.float32).to(DEVICE)\n",
        "\n",
        "    # self.y_data = T.tensor(y_tmp,\n",
        "    #   dtype=T.long).to(DEVICE)\n",
        "\n",
        "  def __len__(self):\n",
        "    return len(self.x_data)  # required\n",
        "\n",
        "  def __getitem__(self, idx):\n",
        "    # if T.is_tensor(idx):\n",
        "    #   idx = idx.tolist()\n",
        "    # preds = self.x_data[idx, 0:7]\n",
        "    # pol = self.y_data[idx]\n",
        "    # sample = \\\n",
        "    #   { 'predictors' : preds, 'political' : pol }\n",
        "\n",
        "    sample = self.x_data[idx]\n",
        "    return sample"
      ]
    },
    {
      "cell_type": "markdown",
      "metadata": {
        "id": "aOkDqqAoH_ou"
      },
      "source": [
        "**Train/Test Split**"
      ]
    },
    {
      "cell_type": "code",
      "execution_count": 9,
      "metadata": {
        "id": "kGYcFC8BKLcD"
      },
      "outputs": [
        {
          "name": "stdout",
          "output_type": "stream",
          "text": [
            "          0         1         2         3         4         5         6     \\\n",
            "0     1.029298  1.019125  1.030769  1.047487  1.039964  1.028696  1.041467   \n",
            "1     0.990036  0.987269  0.994762  1.014196  1.023387  1.023809  1.032977   \n",
            "2     0.966026  0.802236  1.219610  1.310636  0.885086  0.855891  0.941577   \n",
            "3     0.925234  0.952573  0.947935  0.971894  1.015564  1.048688  1.049001   \n",
            "4     0.878808  0.904151  0.959540  1.010035  1.040815  1.054573  1.059369   \n",
            "...        ...       ...       ...       ...       ...       ...       ...   \n",
            "9995  0.974185  0.990827  1.022151  1.033716  1.035323  1.038089  1.031810   \n",
            "9996  1.038004  1.046113  1.032407  1.030293  1.050516  1.065883  1.066671   \n",
            "9997  0.998154  1.003332  1.011922  1.017349  1.019084  1.022173  1.024621   \n",
            "9998  0.936833  0.932019  0.981848  0.982695  0.962492  0.986226  1.025436   \n",
            "9999  0.752619  0.839105  0.928407  0.997285  1.040776  1.047062  1.044691   \n",
            "\n",
            "          7         8         9     ...      7504      7505      7506  \\\n",
            "0     1.044751  1.034174  1.041306  ...  0.995729  1.100086  1.029313   \n",
            "1     1.038611  1.031156  1.024400  ...  0.949991  0.933548  0.964648   \n",
            "2     0.776780  0.918720  1.191249  ...  1.083606  3.089595  2.144881   \n",
            "3     1.024613  1.018155  1.028265  ...  0.955415  0.934431  0.927043   \n",
            "4     1.058488  1.053649  1.048092  ...  0.917104  0.937378  0.947413   \n",
            "...        ...       ...       ...  ...       ...       ...       ...   \n",
            "9995  1.031162  1.046255  1.052701  ...  0.946770  0.953232  0.962360   \n",
            "9996  1.066292  1.060970  1.048056  ...  0.940414  0.951208  0.962458   \n",
            "9997  1.021389  1.016824  1.017294  ...  0.958074  0.960983  0.972999   \n",
            "9998  1.030991  1.027200  1.031609  ...  0.805660  0.814529  0.934617   \n",
            "9999  1.047586  1.042874  1.029446  ...  0.935466  0.952626  0.957765   \n",
            "\n",
            "          7507      7508      7509      7510      7511      7512      7513  \n",
            "0     0.959485  1.041395  0.991530  1.023653  0.971355  0.948459  0.951225  \n",
            "1     0.964543  0.972279  0.972806  0.962122  0.961664  0.965745  0.952771  \n",
            "2     0.888401  0.652072  0.806873  1.000000  1.000000  1.000000  1.000000  \n",
            "3     0.964045  1.012850  0.973799  0.964529  1.019993  0.954958  0.952475  \n",
            "4     0.958011  0.971418  0.981196  0.991603  1.001394  0.994144  0.976024  \n",
            "...        ...       ...       ...       ...       ...       ...       ...  \n",
            "9995  0.968085  0.979391  0.954002  0.977582  1.003615  0.972136  0.954240  \n",
            "9996  0.969832  0.960740  0.959725  0.968419  0.970027  0.968956  0.979822  \n",
            "9997  0.969485  0.972787  0.979072  0.983984  0.988129  0.973947  0.974946  \n",
            "9998  0.890984  0.811795  0.907888  0.929414  0.933044  0.958514  0.899026  \n",
            "9999  0.951291  0.956143  0.993505  0.980400  0.978648  0.981959  0.965365  \n",
            "\n",
            "[10000 rows x 7514 columns]\n",
            "          0         1         2         3         4         5         6     \\\n",
            "0     1.029298  1.019125  1.030769  1.047487  1.039964  1.028696  1.041467   \n",
            "1     0.990036  0.987269  0.994762  1.014196  1.023387  1.023809  1.032977   \n",
            "2     0.966026  0.802236  1.219610  1.310636  0.885086  0.855891  0.941577   \n",
            "3     0.925234  0.952573  0.947935  0.971894  1.015564  1.048688  1.049001   \n",
            "4     0.878808  0.904151  0.959540  1.010035  1.040815  1.054573  1.059369   \n",
            "...        ...       ...       ...       ...       ...       ...       ...   \n",
            "9995  0.974185  0.990827  1.022151  1.033716  1.035323  1.038089  1.031810   \n",
            "9996  1.038004  1.046113  1.032407  1.030293  1.050516  1.065883  1.066671   \n",
            "9997  0.998154  1.003332  1.011922  1.017349  1.019084  1.022173  1.024621   \n",
            "9998  0.936833  0.932019  0.981848  0.982695  0.962492  0.986226  1.025436   \n",
            "9999  0.752619  0.839105  0.928407  0.997285  1.040776  1.047062  1.044691   \n",
            "\n",
            "          7         8         9     ...      7504      7505      7506  \\\n",
            "0     1.044751  1.034174  1.041306  ...  0.995729  1.100086  1.029313   \n",
            "1     1.038611  1.031156  1.024400  ...  0.949991  0.933548  0.964648   \n",
            "2     0.776780  0.918720  1.191249  ...  1.083606  3.089595  2.144881   \n",
            "3     1.024613  1.018155  1.028265  ...  0.955415  0.934431  0.927043   \n",
            "4     1.058488  1.053649  1.048092  ...  0.917104  0.937378  0.947413   \n",
            "...        ...       ...       ...  ...       ...       ...       ...   \n",
            "9995  1.031162  1.046255  1.052701  ...  0.946770  0.953232  0.962360   \n",
            "9996  1.066292  1.060970  1.048056  ...  0.940414  0.951208  0.962458   \n",
            "9997  1.021389  1.016824  1.017294  ...  0.958074  0.960983  0.972999   \n",
            "9998  1.030991  1.027200  1.031609  ...  0.805660  0.814529  0.934617   \n",
            "9999  1.047586  1.042874  1.029446  ...  0.935466  0.952626  0.957765   \n",
            "\n",
            "          7507      7508      7509      7510      7511      7512      7513  \n",
            "0     0.959485  1.041395  0.991530  1.023653  0.971355  0.948459  0.951225  \n",
            "1     0.964543  0.972279  0.972806  0.962122  0.961664  0.965745  0.952771  \n",
            "2     0.888401  0.652072  0.806873  1.000000  1.000000  1.000000  1.000000  \n",
            "3     0.964045  1.012850  0.973799  0.964529  1.019993  0.954958  0.952475  \n",
            "4     0.958011  0.971418  0.981196  0.991603  1.001394  0.994144  0.976024  \n",
            "...        ...       ...       ...       ...       ...       ...       ...  \n",
            "9995  0.968085  0.979391  0.954002  0.977582  1.003615  0.972136  0.954240  \n",
            "9996  0.969832  0.960740  0.959725  0.968419  0.970027  0.968956  0.979822  \n",
            "9997  0.969485  0.972787  0.979072  0.983984  0.988129  0.973947  0.974946  \n",
            "9998  0.890984  0.811795  0.907888  0.929414  0.933044  0.958514  0.899026  \n",
            "9999  0.951291  0.956143  0.993505  0.980400  0.978648  0.981959  0.965365  \n",
            "\n",
            "[10000 rows x 7514 columns]\n"
          ]
        }
      ],
      "source": [
        "# # Reduce the dataset down to a manageable size, based on input_rows hyperparameter\n",
        "np.random.seed(random_seed)\n",
        "random_reduced_idx = list(np.random.choice(len(star_spectra), input_rows, replace=False))\n",
        "\n",
        "# # Grab only spectra with indices randomly selected from above\n",
        "#reduced_star_spectra = np.take(star_spectra, random_reduced_idx, 0)\n",
        "reduced_star_spectra = star_spectra[random_reduced_idx]\n",
        "print(pd.DataFrame(reduced_star_spectra))\n",
        "\n",
        "\n",
        "# # Normalize\n",
        "# for starRow in reduced_star_spectra:\n",
        "#     starRow -= starRow.min()\n",
        "#     starRow /= starRow.max()\n",
        "\n",
        "print(pd.DataFrame(reduced_star_spectra))"
      ]
    },
    {
      "cell_type": "code",
      "execution_count": 10,
      "metadata": {
        "id": "bfJHX-yFpdiK"
      },
      "outputs": [],
      "source": [
        "#Normalize (between 0 and 1)\n",
        "\n",
        "# sum_of_rows = reduced_star_spectra.sum(axis=1)\n",
        "# reduced_star_spectra = reduced_star_spectra / sum_of_rows[:, np.newaxis]\n",
        "\n",
        "# reduced_maximum = np.amax(reduced_star_spectra)\n",
        "# print(reduced_maximum)\n",
        "# reduced_star_spectra = reduced_star_spectra/reduced_maximum\n",
        "\n",
        "# Normalization array\n",
        "# reduced_maximum = np.zeros(len(reduced_star_spectra))\n",
        "\n",
        "# for i in range(0, len(reduced_star_spectra)):\n",
        "#   reduced_maximum[i] = np.amax(reduced_star_spectra[i])\n",
        "#   reduced_star_spectra[i] = reduced_star_spectra[i]/reduced_maximum[i]\n",
        "\n",
        "# print(pd.DataFrame(reduced_star_spectra))"
      ]
    },
    {
      "cell_type": "code",
      "execution_count": 11,
      "metadata": {
        "id": "cC-aEHs9pV4e"
      },
      "outputs": [],
      "source": [
        "# Final normalized, reduced inputs\n",
        "train_dataset = spectraDataset(reduced_star_spectra)"
      ]
    },
    {
      "cell_type": "code",
      "execution_count": 12,
      "metadata": {
        "id": "xnK9JzFyH_O_"
      },
      "outputs": [
        {
          "name": "stdout",
          "output_type": "stream",
          "text": [
            "Splitting dataset at 2000\n"
          ]
        }
      ],
      "source": [
        "# Creating data indices for training and validation splits:\n",
        "dataset_size = len(reduced_star_spectra)\n",
        "indices = list(range(dataset_size))\n",
        "split = int(np.floor(validation_split * dataset_size))\n",
        "\n",
        "print(\"Splitting dataset at\", split)\n",
        "\n",
        "# If shuffling is enabled, use random seed to shuffle data indices\n",
        "if shuffle_toggle:\n",
        "    np.random.seed(random_seed)\n",
        "    np.random.shuffle(indices)\n",
        "\n",
        "# Get training/validation indices\n",
        "train_indices, test_indices = indices[split:], indices[:split]\n",
        "\n",
        "# Generate random samplers\n",
        "train_sampler = SubsetRandomSampler(train_indices)\n",
        "test_sampler = SubsetRandomSampler(test_indices)"
      ]
    },
    {
      "cell_type": "code",
      "execution_count": 13,
      "metadata": {
        "id": "eKNkFIRY9Z7w"
      },
      "outputs": [
        {
          "name": "stdout",
          "output_type": "stream",
          "text": [
            "Batches in train: 80\n",
            "Batches in test: 20\n"
          ]
        }
      ],
      "source": [
        "# Generate data loaders\n",
        "kwargs = {'num_workers': 0}\n",
        "#kwargs = {'num_workers': 0} \n",
        "\n",
        "# train_loader = DataLoader(train_dataset, batch_size=batch_size, sampler=train_sampler, **kwargs)\n",
        "# test_loader = DataLoader(train_dataset, batch_size=batch_size, sampler=test_sampler, **kwargs)\n",
        "\n",
        "# Try without random sampling (simple split on index)\n",
        "train_loader = DataLoader(train_dataset[split:], batch_size=batch_size, **kwargs)\n",
        "test_loader = DataLoader(train_dataset[:split], batch_size=batch_size, **kwargs)\n",
        "\n",
        "print('Batches in train:', len(train_loader))\n",
        "print('Batches in test:', len(test_loader))"
      ]
    },
    {
      "cell_type": "code",
      "execution_count": 14,
      "metadata": {},
      "outputs": [
        {
          "name": "stdout",
          "output_type": "stream",
          "text": [
            "torch.Size([100, 7514])\n",
            "torch.Size([100, 7514])\n",
            "torch.Size([100, 7514])\n",
            "torch.Size([100, 7514])\n",
            "torch.Size([100, 7514])\n",
            "torch.Size([100, 7514])\n",
            "torch.Size([100, 7514])\n",
            "torch.Size([100, 7514])\n",
            "torch.Size([100, 7514])\n",
            "torch.Size([100, 7514])\n",
            "torch.Size([100, 7514])\n",
            "torch.Size([100, 7514])\n",
            "torch.Size([100, 7514])\n",
            "torch.Size([100, 7514])\n",
            "torch.Size([100, 7514])\n",
            "torch.Size([100, 7514])\n",
            "torch.Size([100, 7514])\n",
            "torch.Size([100, 7514])\n",
            "torch.Size([100, 7514])\n",
            "torch.Size([100, 7514])\n",
            "torch.Size([100, 7514])\n",
            "torch.Size([100, 7514])\n",
            "torch.Size([100, 7514])\n",
            "torch.Size([100, 7514])\n",
            "torch.Size([100, 7514])\n",
            "torch.Size([100, 7514])\n",
            "torch.Size([100, 7514])\n",
            "torch.Size([100, 7514])\n",
            "torch.Size([100, 7514])\n",
            "torch.Size([100, 7514])\n",
            "torch.Size([100, 7514])\n",
            "torch.Size([100, 7514])\n",
            "torch.Size([100, 7514])\n",
            "torch.Size([100, 7514])\n",
            "torch.Size([100, 7514])\n",
            "torch.Size([100, 7514])\n",
            "torch.Size([100, 7514])\n",
            "torch.Size([100, 7514])\n",
            "torch.Size([100, 7514])\n",
            "torch.Size([100, 7514])\n",
            "torch.Size([100, 7514])\n",
            "torch.Size([100, 7514])\n",
            "torch.Size([100, 7514])\n",
            "torch.Size([100, 7514])\n",
            "torch.Size([100, 7514])\n",
            "torch.Size([100, 7514])\n",
            "torch.Size([100, 7514])\n",
            "torch.Size([100, 7514])\n",
            "torch.Size([100, 7514])\n",
            "torch.Size([100, 7514])\n",
            "torch.Size([100, 7514])\n",
            "torch.Size([100, 7514])\n",
            "torch.Size([100, 7514])\n",
            "torch.Size([100, 7514])\n",
            "torch.Size([100, 7514])\n",
            "torch.Size([100, 7514])\n",
            "torch.Size([100, 7514])\n",
            "torch.Size([100, 7514])\n",
            "torch.Size([100, 7514])\n",
            "torch.Size([100, 7514])\n",
            "torch.Size([100, 7514])\n",
            "torch.Size([100, 7514])\n",
            "torch.Size([100, 7514])\n",
            "torch.Size([100, 7514])\n",
            "torch.Size([100, 7514])\n",
            "torch.Size([100, 7514])\n",
            "torch.Size([100, 7514])\n",
            "torch.Size([100, 7514])\n",
            "torch.Size([100, 7514])\n",
            "torch.Size([100, 7514])\n",
            "torch.Size([100, 7514])\n",
            "torch.Size([100, 7514])\n",
            "torch.Size([100, 7514])\n",
            "torch.Size([100, 7514])\n",
            "torch.Size([100, 7514])\n",
            "torch.Size([100, 7514])\n",
            "torch.Size([100, 7514])\n",
            "torch.Size([100, 7514])\n",
            "torch.Size([100, 7514])\n",
            "torch.Size([100, 7514])\n"
          ]
        }
      ],
      "source": [
        "for idx, train in enumerate(train_loader):\n",
        "    print(train.shape)"
      ]
    },
    {
      "cell_type": "code",
      "execution_count": 15,
      "metadata": {
        "id": "mHy11ApKq3FM"
      },
      "outputs": [],
      "source": [
        "# MNIST Testing data\n",
        "\n",
        "# mnist_transform = transforms.Compose([\n",
        "#         transforms.ToTensor(),\n",
        "# ])\n",
        "\n",
        "# kwargs = {'num_workers': 1, 'pin_memory': True} \n",
        "\n",
        "# train_dataset = MNIST(dataset_path, transform=mnist_transform, train=True, download=True)\n",
        "# test_dataset  = MNIST(dataset_path, transform=mnist_transform, train=False, download=True)\n",
        "\n",
        "# train_loader = DataLoader(dataset=train_dataset, batch_size=batch_size, shuffle=True, **kwargs)\n",
        "# test_loader  = DataLoader(dataset=test_dataset,  batch_size=batch_size, shuffle=False, **kwargs)"
      ]
    },
    {
      "cell_type": "markdown",
      "metadata": {
        "id": "r3aX2FK8rTHO"
      },
      "source": [
        "Implement Simple VAE"
      ]
    },
    {
      "cell_type": "code",
      "execution_count": 16,
      "metadata": {
        "id": "HONX58QMrSUl"
      },
      "outputs": [],
      "source": [
        "\"\"\"\n",
        "    A simple implementation of Gaussian MLP Encoder and Decoder\n",
        "\"\"\"\n",
        "\n",
        "class Encoder(nn.Module):\n",
        "  def __init__(self, input_dim, hidden_dim, latent_dim):\n",
        "    super(Encoder, self).__init__()\n",
        "\n",
        "    # FC Linear version\n",
        "    self.FC_input = nn.Linear(input_dim, 3757)\n",
        "    # Try batch normalization\n",
        "    # nn.BatchNorm1d(hidden_dim)\n",
        "    self.FC_input2 = nn.Linear(3757, 1878)\n",
        "    self.FC_input3 = nn.Linear(1878, 939)\n",
        "    self.FC_input4 = nn.Linear(939, 469)\n",
        "    self.FC_input5 = nn.Linear(469, 234)\n",
        "    self.FC_input6 = nn.Linear(234, 117)\n",
        "    self.FC_input7 = nn.Linear(117, 58)\n",
        "    self.FC_input8 = nn.Linear(58, 29)\n",
        "\n",
        "    # Increase number of layers!!\n",
        "\n",
        "    # Mean and log variance\n",
        "    self.FC_mean  = nn.Linear(29, latent_dim)\n",
        "    self.FC_var   = nn.Linear(29, latent_dim)\n",
        "    \n",
        "    self.LeakyReLU = nn.LeakyReLU()\n",
        "    \n",
        "    self.training = True\n",
        "      \n",
        "  def forward(self, x):\n",
        "    h_ = self.LeakyReLU(self.FC_input(x))\n",
        "    h_ = self.LeakyReLU(self.FC_input2(h_))\n",
        "    h_ = self.LeakyReLU(self.FC_input3(h_))\n",
        "    h_ = self.LeakyReLU(self.FC_input4(h_))\n",
        "    h_ = self.LeakyReLU(self.FC_input5(h_))\n",
        "    h_ = self.LeakyReLU(self.FC_input6(h_))\n",
        "    h_ = self.LeakyReLU(self.FC_input7(h_))\n",
        "    h_ = self.LeakyReLU(self.FC_input8(h_))\n",
        "\n",
        "    mean = self.FC_mean(h_)\n",
        "    log_var = self.FC_var(h_)                     # encoder produces mean and log of variance \n",
        "                                                  #             (i.e., parameters of simple tractable normal distribution \"q\"\n",
        "    \n",
        "    return mean, log_var"
      ]
    },
    {
      "cell_type": "code",
      "execution_count": 17,
      "metadata": {
        "id": "Xo-_3cU1rYqv"
      },
      "outputs": [],
      "source": [
        "class Decoder(nn.Module):\n",
        "  def __init__(self, latent_dim, hidden_dim, output_dim):\n",
        "    super(Decoder, self).__init__()\n",
        "\n",
        "    # FC Linear version\n",
        "    self.FC_hidden = nn.Linear(latent_dim, 29)\n",
        "    self.FC_hidden2 = nn.Linear(29, 58)\n",
        "    self.FC_hidden3 = nn.Linear(58, 117)\n",
        "    self.FC_hidden4 = nn.Linear(117, 234)\n",
        "    self.FC_hidden5 = nn.Linear(234, 469)\n",
        "    self.FC_hidden6 = nn.Linear(469, 939)\n",
        "    self.FC_hidden7 = nn.Linear(939, 1878)\n",
        "    self.FC_hidden8 = nn.Linear(1878, 3757)\n",
        "    self.FC_output = nn.Linear(3757, output_dim)\n",
        "    \n",
        "    self.LeakyReLU = nn.LeakyReLU()\n",
        "\n",
        "  def forward(self, x):\n",
        "    h = self.LeakyReLU(self.FC_hidden(x))\n",
        "    h = self.LeakyReLU(self.FC_hidden2(h))\n",
        "    h = self.LeakyReLU(self.FC_hidden3(h))\n",
        "    h = self.LeakyReLU(self.FC_hidden4(h))\n",
        "    h = self.LeakyReLU(self.FC_hidden5(h))\n",
        "    h = self.LeakyReLU(self.FC_hidden6(h))\n",
        "    h = self.LeakyReLU(self.FC_hidden7(h))\n",
        "    h = self.LeakyReLU(self.FC_hidden8(h))\n",
        "  \n",
        "    # originally torch.sigmoid, but output range incorrect\n",
        "    # Replace with smooth function - look into this!!\n",
        "    # Softplus, gelu \n",
        "\n",
        "    activation = torch.nn.Softplus()\n",
        "    x_hat = activation(self.FC_output(h))\n",
        "    #x_hat = torch.nn.GELU(self.FC_output(h))\n",
        "    #print(x_hat)\n",
        "    return x_hat"
      ]
    },
    {
      "cell_type": "code",
      "execution_count": 18,
      "metadata": {
        "id": "t0hRtlO5ralJ"
      },
      "outputs": [],
      "source": [
        "class Model(nn.Module):\n",
        "  def __init__(self, Encoder, Decoder):\n",
        "    super(Model, self).__init__()\n",
        "    self.Encoder = Encoder\n",
        "    self.Decoder = Decoder\n",
        "      \n",
        "  def reparameterization(self, mean, var):\n",
        "    epsilon = torch.randn_like(var).to(DEVICE)        # sampling epsilon        \n",
        "    z = mean + var*epsilon                          # reparameterization trick\n",
        "    return z\n",
        "      \n",
        "              \n",
        "  def forward(self, x):\n",
        "    # Generate mean, log var\n",
        "    mean, log_var = self.Encoder(x)\n",
        "\n",
        "    z = self.reparameterization(mean, torch.exp(0.5 * log_var)) # takes exponential function (log var -> var)\n",
        "    x_hat = self.Decoder(z)\n",
        "    \n",
        "    return x_hat, mean, log_var"
      ]
    },
    {
      "cell_type": "code",
      "execution_count": 19,
      "metadata": {
        "id": "cDqjx8Pyrekx"
      },
      "outputs": [],
      "source": [
        "encoder = Encoder(input_dim=x_dim, hidden_dim=hidden_dim, latent_dim=latent_dim)\n",
        "decoder = Decoder(latent_dim=latent_dim, hidden_dim = hidden_dim, output_dim = x_dim)\n",
        "\n",
        "model = Model(Encoder=encoder, Decoder=decoder).to(DEVICE)"
      ]
    },
    {
      "cell_type": "code",
      "execution_count": 20,
      "metadata": {
        "id": "gg0P-A_LrhK5"
      },
      "outputs": [],
      "source": [
        "def loss_function(x, x_hat, mean, log_var):\n",
        "  # Reduction = mean or sum\n",
        "  reproduction_loss = nn.functional.mse_loss(x_hat, x, reduction='sum')\n",
        "  \n",
        "  # reproduction_loss = nn.functional.binary_cross_entropy(x_hat, x, reduction='sum')\n",
        "\n",
        "  KLD = - 0.5 * torch.sum(1+ log_var - mean.pow(2) - log_var.exp())\n",
        "\n",
        "  return reproduction_loss + beta * KLD\n",
        "\n",
        "\n",
        "#optimizer = Adam(model.parameters(), lr=lr)\n",
        "optimizer = Adam(model.parameters(), lr=lr, amsgrad=True)\n",
        "\n",
        "# Dynamic LR decay\n",
        "scheduler = torch.optim.lr_scheduler.ExponentialLR(optimizer, gamma=0.9)"
      ]
    },
    {
      "cell_type": "markdown",
      "metadata": {},
      "source": [
        "**Run Training**"
      ]
    },
    {
      "cell_type": "code",
      "execution_count": 21,
      "metadata": {
        "id": "dYM5WBzTriny"
      },
      "outputs": [
        {
          "name": "stdout",
          "output_type": "stream",
          "text": [
            "Start training VAE...\n",
            "\tEpoch 1 complete! \tAverage Loss:  0.44356391607960566\n",
            "\tEpoch 2 complete! \tAverage Loss:  0.0377386786585933\n",
            "\tEpoch 3 complete! \tAverage Loss:  0.2638701650783231\n",
            "\tEpoch 4 complete! \tAverage Loss:  nan\n",
            "\tEpoch 5 complete! \tAverage Loss:  nan\n",
            "\tEpoch 6 complete! \tAverage Loss:  nan\n",
            "\tEpoch 7 complete! \tAverage Loss:  nan\n",
            "\tEpoch 8 complete! \tAverage Loss:  nan\n",
            "\tEpoch 9 complete! \tAverage Loss:  nan\n",
            "\tEpoch 10 complete! \tAverage Loss:  nan\n",
            "\tEpoch 11 complete! \tAverage Loss:  nan\n",
            "\tEpoch 12 complete! \tAverage Loss:  nan\n",
            "\tEpoch 13 complete! \tAverage Loss:  nan\n",
            "\tEpoch 14 complete! \tAverage Loss:  nan\n",
            "\tEpoch 15 complete! \tAverage Loss:  nan\n",
            "\tEpoch 16 complete! \tAverage Loss:  nan\n",
            "\tEpoch 17 complete! \tAverage Loss:  nan\n",
            "\tEpoch 18 complete! \tAverage Loss:  nan\n",
            "\tEpoch 19 complete! \tAverage Loss:  nan\n",
            "\tEpoch 20 complete! \tAverage Loss:  nan\n",
            "\tEpoch 21 complete! \tAverage Loss:  nan\n",
            "\tEpoch 22 complete! \tAverage Loss:  nan\n",
            "\tEpoch 23 complete! \tAverage Loss:  nan\n",
            "\tEpoch 24 complete! \tAverage Loss:  nan\n",
            "\tEpoch 25 complete! \tAverage Loss:  nan\n",
            "\tEpoch 26 complete! \tAverage Loss:  nan\n",
            "\tEpoch 27 complete! \tAverage Loss:  nan\n",
            "\tEpoch 28 complete! \tAverage Loss:  nan\n",
            "\tEpoch 29 complete! \tAverage Loss:  nan\n",
            "\tEpoch 30 complete! \tAverage Loss:  nan\n",
            "\tEpoch 31 complete! \tAverage Loss:  nan\n",
            "\tEpoch 32 complete! \tAverage Loss:  nan\n"
          ]
        },
        {
          "ename": "KeyboardInterrupt",
          "evalue": "",
          "output_type": "error",
          "traceback": [
            "\u001b[1;31m---------------------------------------------------------------------------\u001b[0m",
            "\u001b[1;31mKeyboardInterrupt\u001b[0m                         Traceback (most recent call last)",
            "\u001b[1;32m<ipython-input-21-991c7d4e9cc3>\u001b[0m in \u001b[0;36m<module>\u001b[1;34m\u001b[0m\n\u001b[0;32m     14\u001b[0m     \u001b[0mloss\u001b[0m \u001b[1;33m=\u001b[0m \u001b[0mloss_function\u001b[0m\u001b[1;33m(\u001b[0m\u001b[0mx\u001b[0m\u001b[1;33m,\u001b[0m \u001b[0mx_hat\u001b[0m\u001b[1;33m,\u001b[0m \u001b[0mmean\u001b[0m\u001b[1;33m,\u001b[0m \u001b[0mlog_var\u001b[0m\u001b[1;33m)\u001b[0m\u001b[1;33m\u001b[0m\u001b[1;33m\u001b[0m\u001b[0m\n\u001b[0;32m     15\u001b[0m \u001b[1;33m\u001b[0m\u001b[0m\n\u001b[1;32m---> 16\u001b[1;33m     \u001b[0moverall_loss\u001b[0m \u001b[1;33m+=\u001b[0m \u001b[0mloss\u001b[0m\u001b[1;33m.\u001b[0m\u001b[0mitem\u001b[0m\u001b[1;33m(\u001b[0m\u001b[1;33m)\u001b[0m\u001b[1;33m\u001b[0m\u001b[1;33m\u001b[0m\u001b[0m\n\u001b[0m\u001b[0;32m     17\u001b[0m \u001b[1;33m\u001b[0m\u001b[0m\n\u001b[0;32m     18\u001b[0m     \u001b[0mloss\u001b[0m\u001b[1;33m.\u001b[0m\u001b[0mbackward\u001b[0m\u001b[1;33m(\u001b[0m\u001b[1;33m)\u001b[0m\u001b[1;33m\u001b[0m\u001b[1;33m\u001b[0m\u001b[0m\n",
            "\u001b[1;31mKeyboardInterrupt\u001b[0m: "
          ]
        }
      ],
      "source": [
        "print(\"Start training VAE...\")\n",
        "model.train()\n",
        "\n",
        "for epoch in range(epochs):\n",
        "  overall_loss = 0\n",
        "  \n",
        "  for batch_idx, (x) in enumerate(train_loader):\n",
        "    x = x.view(batch_size, x_dim)\n",
        "    x = x.to(DEVICE)\n",
        "\n",
        "    optimizer.zero_grad()\n",
        "\n",
        "    x_hat, mean, log_var = model(x)\n",
        "    loss = loss_function(x, x_hat, mean, log_var)\n",
        "    \n",
        "    overall_loss += loss.item()\n",
        "    \n",
        "    loss.backward()\n",
        "    optimizer.step()\n",
        "  \n",
        "  # Dynamic LR decay\n",
        "  scheduler.step()\n",
        "\n",
        "  print(\"\\tEpoch\", epoch + 1, \"complete!\", \"\\tAverage Loss: \", overall_loss / (batch_idx*batch_size))\n",
        "    \n",
        "print(\"Finished!!!\")"
      ]
    },
    {
      "cell_type": "code",
      "execution_count": null,
      "metadata": {
        "id": "5GjN2krOr0nI"
      },
      "outputs": [
        {
          "name": "stderr",
          "output_type": "stream",
          "text": [
            "  0%|          | 0/20 [00:00<?, ?it/s]\n"
          ]
        }
      ],
      "source": [
        "model.eval()\n",
        "\n",
        "with torch.no_grad():\n",
        "  for batch_idx, (x) in enumerate(tqdm(test_loader)):\n",
        "    x = x.view(batch_size, x_dim)\n",
        "    x = x.to(DEVICE)\n",
        "    \n",
        "    x_hat, _, _ = model(x)\n",
        "    break"
      ]
    },
    {
      "cell_type": "code",
      "execution_count": null,
      "metadata": {
        "id": "QsJCDz_Ywk9C"
      },
      "outputs": [
        {
          "name": "stdout",
          "output_type": "stream",
          "text": [
            "tensor([1.0293, 1.0191, 1.0308,  ..., 0.9714, 0.9485, 0.9512], device='cuda:0')\n"
          ]
        },
        {
          "data": {
            "image/png": "[encoded data removed]",
            "text/plain": [
              "<Figure size 432x288 with 1 Axes>"
            ]
          },
          "metadata": {
            "needs_background": "light"
          },
          "output_type": "display_data"
        }
      ],
      "source": [
        "#x[1] = x[1] * reduced_maximum\n",
        "print(x[0])\n",
        "\n",
        "plt.title('Original Spectra')\n",
        "plt.xlabel('Wavelength')\n",
        "plt.ylabel('Relative Flux')\n",
        "# 7514 data points for each spectra\n",
        "plt.plot(x[0].cpu().numpy())\n",
        "plt.show()"
      ]
    },
    {
      "cell_type": "code",
      "execution_count": null,
      "metadata": {
        "id": "dcETlCUsOVOI"
      },
      "outputs": [
        {
          "name": "stdout",
          "output_type": "stream",
          "text": [
            "tensor([nan, nan, nan,  ..., nan, nan, nan], device='cuda:0')\n"
          ]
        },
        {
          "data": {
            "image/png": "[encoded data removed]",
            "text/plain": [
              "<Figure size 432x288 with 1 Axes>"
            ]
          },
          "metadata": {
            "needs_background": "light"
          },
          "output_type": "display_data"
        }
      ],
      "source": [
        "#x_hat[1] = x_hat[1] * reduced_maximum\n",
        "\n",
        "print(x_hat[0])\n",
        "\n",
        "plt.title('Reconstructed Spectra')\n",
        "plt.xlabel('Wavelength')\n",
        "plt.ylabel('Relative Flux')\n",
        "# 7514 data points for each spectra\n",
        "plt.plot(x_hat[0].cpu().numpy())\n",
        "plt.show()"
      ]
    }
  ],
  "metadata": {
    "accelerator": "GPU",
    "colab": {
      "collapsed_sections": [],
      "name": "vae_test.ipynb",
      "provenance": []
    },
    "kernelspec": {
      "display_name": "Python 3",
      "name": "python3"
    },
    "language_info": {
      "codemirror_mode": {
        "name": "ipython",
        "version": 3
      },
      "file_extension": ".py",
      "mimetype": "text/x-python",
      "name": "python",
      "nbconvert_exporter": "python",
      "pygments_lexer": "ipython3",
      "version": "3.8.5"
    }
  },
  "nbformat": 4,
  "nbformat_minor": 0
}
